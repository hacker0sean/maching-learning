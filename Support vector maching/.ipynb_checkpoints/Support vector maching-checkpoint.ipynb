{
 "cells": [
  {
   "cell_type": "code",
   "execution_count": 7,
   "metadata": {},
   "outputs": [],
   "source": [
    "import numpy as np\n",
    "import pandas as pd\n",
    "from matplotlib import style\n",
    "from sklearn.svm import SVC\n",
    "import matplotlib.pyplot as plt\n",
    "plt.rcParams['figure.figsize'] = (12, 6)\n",
    "style.use('ggplot')"
   ]
  },
  {
   "cell_type": "code",
   "execution_count": 68,
   "metadata": {},
   "outputs": [
    {
     "data": {
      "text/plain": [
       "array([1., 4., 4.])"
      ]
     },
     "execution_count": 68,
     "metadata": {},
     "output_type": "execute_result"
    }
   ],
   "source": [
    "pos1 = Y == 1\n",
    "pos2 = Y == -1\n",
    "Z[pos2, 0]"
   ]
  },
  {
   "cell_type": "code",
   "execution_count": 69,
   "metadata": {},
   "outputs": [
    {
     "data": {
      "image/png": "[encoded data removed]",
      "text/plain": [
       "<Figure size 864x432 with 1 Axes>"
      ]
     },
     "metadata": {},
     "output_type": "display_data"
    }
   ],
   "source": [
    "X = np.array([[1, 0], [0, 1], [0, -1], [-1, 0], [0, 2], [0, -2], [-2, 0]])\n",
    "Y = np.array([-1, -1, -1, 1, 1, 1, 1])\n",
    "Z = np.zeros(X.shape)\n",
    "pos1 = Y == 1\n",
    "pos2 = Y == -1\n",
    "Z[:, 0] = -2 * X[:, 0] + X[:, 1] ** 2 + 3\n",
    "Z[:, 1] = X[:, 0] ** 2 - 2 * X[:, 1] - 3\n",
    "plt.plot(Z[pos1, 0], Z[pos1, 1], 'x', Z[pos2, 0], Z[pos2, 1], 'o')\n",
    "plt.show()"
   ]
  },
  {
   "cell_type": "code",
   "execution_count": 74,
   "metadata": {},
   "outputs": [
    {
     "name": "stdout",
     "output_type": "stream",
     "text": [
      "[[-0.59647182 -0.81065085  0.8887034   0.20566488  0.31275439]] [-1.66633088] [1 2 3 4 5]\n"
     ]
    }
   ],
   "source": [
    "clf = SVC(kernel='poly', degree=2, coef0=1, gamma=1, C=1e10)\n",
    "clf_fit = clf.fit(X, Y)\n",
    "print(clf.dual_coef_, clf.intercept_, clf.support_)"
   ]
  }
 ],
 "metadata": {
  "kernelspec": {
   "display_name": "Python 3",
   "language": "python",
   "name": "python3"
  },
  "language_info": {
   "codemirror_mode": {
    "name": "ipython",
    "version": 3
   },
   "file_extension": ".py",
   "mimetype": "text/x-python",
   "name": "python",
   "nbconvert_exporter": "python",
   "pygments_lexer": "ipython3",
   "version": "3.6.5"
  }
 },
 "nbformat": 4,
 "nbformat_minor": 2
}
