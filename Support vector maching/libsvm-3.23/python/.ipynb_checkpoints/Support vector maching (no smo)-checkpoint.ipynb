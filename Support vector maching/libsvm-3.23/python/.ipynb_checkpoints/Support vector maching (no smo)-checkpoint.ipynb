{
 "cells": [
  {
   "cell_type": "code",
   "execution_count": 1,
   "metadata": {},
   "outputs": [],
   "source": [
    "import pandas as pd\n",
    "import numpy as np\n",
    "from svmutil import *"
   ]
  },
  {
   "cell_type": "code",
   "execution_count": 2,
   "metadata": {},
   "outputs": [],
   "source": [
    "train = pd.read_csv('features_train.dat', header=None, sep='\\s+', engine='python')\n",
    "test = pd.read_csv('features_test.dat', header=None, sep='\\s+', engine='python')"
   ]
  },
  {
   "cell_type": "code",
   "execution_count": 3,
   "metadata": {},
   "outputs": [],
   "source": [
    "def read_data(filename):\n",
    "    file = pd.read_csv(filename, header=None, sep='\\s+', engine='python')\n",
    "    X = np.array(file.iloc[:, [1, 2]])\n",
    "    Y = np.array(file.iloc[:, [0]])\n",
    "    X = np.concatenate((np.ones((len(X), 1)), X), axis=1)\n",
    "    return X, Y"
   ]
  },
  {
   "cell_type": "code",
   "execution_count": 4,
   "metadata": {},
   "outputs": [],
   "source": [
    "X_train, Y_train = read_data('features_train.dat')\n",
    "X_test, Y_test = read_data('features_test.dat')"
   ]
  },
  {
   "cell_type": "code",
   "execution_count": 5,
   "metadata": {},
   "outputs": [
    {
     "name": "stdout",
     "output_type": "stream",
     "text": [
      "c = 0.000001 w = 0.000060\n",
      "c = 0.000100 w = 0.006019\n",
      "c = 0.010000 w = 0.571317\n",
      "c = 1.000000 w = 11.329938\n",
      "c = 100.000000 w = 13.093774\n"
     ]
    }
   ],
   "source": [
    "#15\n",
    "Y_new_train = np.where(Y_train > 0, 1, -1).reshape((len(Y_train),))\n",
    "Y_new_test = np.where(Y_test > 0, 1, -1).reshape((len(Y_test),))\n",
    "arr = np.arange(-6, 4, 2)\n",
    "c_list = 10.0 ** arr\n",
    "for j in c_list:\n",
    "    model = svm_train(Y_new_train, X_train, '-c %f -t 0' %j)\n",
    "    support_vectors = model.get_SV() \n",
    "    support_vector_coefficients = model.get_sv_coef()\n",
    "    sv=np.array(support_vectors)\n",
    "    svc=np.array(support_vector_coefficients)\n",
    "    w=np.array([0,0,0])\n",
    "    for i in range(len(sv)):\n",
    "        w=w+np.concatenate((svc[i]*sv[i][1], svc[i]*sv[i][2],svc[i]*sv[i][3]))\n",
    "    w = np.sqrt(w[0]**2 + w[1]**2 + w[2]**2)\n",
    "    print('c = %f' %j, 'w = %f'  %w)"
   ]
  },
  {
   "cell_type": "code",
   "execution_count": 6,
   "metadata": {},
   "outputs": [
    {
     "name": "stdout",
     "output_type": "stream",
     "text": [
      "i =  0\n",
      "ein = \n",
      "Accuracy = 89.7545% (6544/7291) (classification)\n",
      "a_sum =  21.413210935936796\n",
      "i =  2\n",
      "ein = \n",
      "Accuracy = 89.9739% (6560/7291) (classification)\n",
      "a_sum =  14.62\n",
      "i =  4\n",
      "ein = \n",
      "Accuracy = 91.0575% (6639/7291) (classification)\n",
      "a_sum =  13.04\n",
      "i =  6\n",
      "ein = \n",
      "Accuracy = 90.8929% (6627/7291) (classification)\n",
      "a_sum =  13.279999999999998\n",
      "i =  8\n",
      "ein = \n",
      "Accuracy = 92.5662% (6749/7291) (classification)\n",
      "a_sum =  10.84\n"
     ]
    }
   ],
   "source": [
    "#16 #17\n",
    "for i in np.arange(0, 10, 2):\n",
    "    Y_new_train = np.where(Y_train == i, 1, -1).reshape((len(Y_train),))\n",
    "    #Y_new_test = np.where(Y_test == i, 1, 0).reshape((len(Y_test),))\n",
    "    model = svm_train(Y_new_train, X_train, '-c 0.01 -t 1 -d 2 -g 1 -r 1')\n",
    "    print(\"i = \", i)\n",
    "    print(\"ein = \")\n",
    "    svm_predict(Y_new_train, X_train, m=model)\n",
    "    svc = model.get_sv_coef()\n",
    "    print(\"a_sum = \", np.sum(np.abs(svc)))"
   ]
  },
  {
   "cell_type": "code",
   "execution_count": 7,
   "metadata": {},
   "outputs": [
    {
     "name": "stdout",
     "output_type": "stream",
     "text": [
      "c = 0.001000 sv_numbers = 2398.000000\n",
      "Accuracy = 82.1126% (1648/2007) (classification)\n",
      "eout =  0.17887394120577976\n",
      "w = 1.820608\n",
      "c = 0.010000 sv_numbers = 2487.000000\n",
      "Accuracy = 82.1126% (1648/2007) (classification)\n",
      "eout =  0.17887394120577976\n",
      "w = 0.179096\n",
      "c = 0.100000 sv_numbers = 2280.000000\n",
      "Accuracy = 89.4868% (1796/2007) (classification)\n",
      "eout =  0.10513203786746388\n",
      "w = 0.025914\n",
      "c = 1.000000 sv_numbers = 1774.000000\n",
      "Accuracy = 89.6363% (1799/2007) (classification)\n",
      "eout =  0.10363726955655207\n",
      "w = 0.016049\n",
      "c = 10.000000 sv_numbers = 1678.000000\n",
      "Accuracy = 89.5366% (1797/2007) (classification)\n",
      "eout =  0.10463378176382661\n",
      "w = 0.015340\n"
     ]
    }
   ],
   "source": [
    "#18\n",
    "Y_new_train = np.where(Y_train == 0, 1, -1).reshape((len(Y_train),))\n",
    "Y_new_test = np.where(Y_test == 0, 1, -1).reshape((len(Y_test),))\n",
    "arr = np.arange(-3, 2, 1)\n",
    "c_list = 10.0 ** arr\n",
    "for j in c_list:\n",
    "    model = svm_train(Y_new_train, X_train, '-c %f -t 2 -g 100' %j)\n",
    "    support_vectors = model.get_SV() \n",
    "    support_vector_coefficients = model.get_sv_coef()\n",
    "    sv_numbers=len(np.array(support_vectors))\n",
    "    print('c = %f' %j, 'sv_numbers = %f'  %sv_numbers)\n",
    "    p_labels, p_acc, p_vals = svm_predict(Y_new_test, X_test, model)\n",
    "    print( 'eout = ', (p_labels != Y_new_test).sum() / len(Y_new_test))\n",
    "    support_vectors = model.get_SV() \n",
    "    support_vector_coefficients = model.get_sv_coef()\n",
    "    sv=np.array(support_vectors)\n",
    "    svc=np.array(support_vector_coefficients)\n",
    "    w=np.array([0,0,0])\n",
    "    for i in range(len(sv)):\n",
    "        w=w+np.concatenate((svc[i]*sv[i][1], svc[i]*sv[i][2],svc[i]*sv[i][3]))\n",
    "    w = np.sqrt(w[0]**2 + w[1]**2 + w[2]**2)\n",
    "    w = 1/w\n",
    "    print('w = %f'  %w)"
   ]
  },
  {
   "cell_type": "code",
   "execution_count": 8,
   "metadata": {},
   "outputs": [
    {
     "name": "stdout",
     "output_type": "stream",
     "text": [
      "g = 1.000000\n",
      "Accuracy = 89.2875% (1792/2007) (classification)\n",
      "eout =  0.10712506228201295\n",
      "g = 10.000000\n",
      "Accuracy = 90.0847% (1808/2007) (classification)\n",
      "eout =  0.09915296462381665\n",
      "g = 100.000000\n",
      "Accuracy = 89.4868% (1796/2007) (classification)\n",
      "eout =  0.10513203786746388\n",
      "g = 1000.000000\n",
      "Accuracy = 82.1126% (1648/2007) (classification)\n",
      "eout =  0.17887394120577976\n",
      "g = 10000.000000\n",
      "Accuracy = 82.1126% (1648/2007) (classification)\n",
      "eout =  0.17887394120577976\n"
     ]
    }
   ],
   "source": [
    "#19\n",
    "Y_new_train = np.where(Y_train == 0, 1, -1).reshape((len(Y_train),))\n",
    "Y_new_test = np.where(Y_test == 0, 1, -1).reshape((len(Y_test),))\n",
    "arr = np.arange(0, 5, 1)\n",
    "g_list = 10.0 ** arr\n",
    "for j in g_list:\n",
    "    model = svm_train(Y_new_train, X_train, '-c 0.1 -g %f' %j)\n",
    "    print('g = %f' %j)\n",
    "    p_labels, p_acc, p_vals = svm_predict(Y_new_test, X_test, m=model)\n",
    "    print('eout = ', (p_labels != Y_new_test).sum() / len(Y_new_test))"
   ]
  }
 ],
 "metadata": {
  "kernelspec": {
   "display_name": "Python 3",
   "language": "python",
   "name": "python3"
  },
  "language_info": {
   "codemirror_mode": {
    "name": "ipython",
    "version": 3
   },
   "file_extension": ".py",
   "mimetype": "text/x-python",
   "name": "python",
   "nbconvert_exporter": "python",
   "pygments_lexer": "ipython3",
   "version": "3.6.5"
  }
 },
 "nbformat": 4,
 "nbformat_minor": 2
}
