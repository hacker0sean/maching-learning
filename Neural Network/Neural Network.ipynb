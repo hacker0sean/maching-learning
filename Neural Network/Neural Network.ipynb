{
 "cells": [
  {
   "cell_type": "code",
   "execution_count": 432,
   "metadata": {},
   "outputs": [],
   "source": [
    "import numpy as np\n",
    "import pandas as pd"
   ]
  },
  {
   "cell_type": "code",
   "execution_count": 433,
   "metadata": {},
   "outputs": [],
   "source": [
    "hidden = []\n",
    "def subset_sum(numbers, target, partial=[]):\n",
    "    s = sum(partial)\n",
    "    # check if the partial sum is equals to target\n",
    "    if s == target:\n",
    "       # print(\"sum(%s)=%s\" % (partial, target))\n",
    "        hidden.append(partial)\n",
    "    if s >= target:\n",
    "        return  # if we reach the number why bother to continue\n",
    "    for i in range(len(numbers)):\n",
    "        n = numbers[i]\n",
    "        subset_sum(numbers[:i+1], target, partial + [n])"
   ]
  },
  {
   "cell_type": "code",
   "execution_count": 434,
   "metadata": {},
   "outputs": [
    {
     "name": "stdout",
     "output_type": "stream",
     "text": [
      "最多情况:  510 [22, 14] \n",
      "最少情况:  46 [2, 2, 2, 2, 2, 2, 2, 2, 2, 2, 2, 2, 2, 2, 2, 2, 2, 2]\n"
     ]
    }
   ],
   "source": [
    "N = 36\n",
    "subset_sum(range(2,37),N)\n",
    "\n",
    "maxi = 0; mini = 1000\n",
    "for i in range(len(hidden)):\n",
    "    num = hidden[i]\n",
    "    wnum = 10 * (num[0]-1)\n",
    "    for j in range(len(num)-1):\n",
    "        wnum += num[j]*(num[j+1]-1)\n",
    "    wnum +=  num[len(num)-1]\n",
    "    if maxi < wnum:\n",
    "        maxi = wnum\n",
    "        max_hidden = num\n",
    "    if mini > wnum:\n",
    "        mini = wnum\n",
    "        min_hidden = num\n",
    "print('最多情况: ', maxi, max_hidden, '\\n最少情况: ', mini, min_hidden)"
   ]
  },
  {
   "cell_type": "code",
   "execution_count": 435,
   "metadata": {},
   "outputs": [],
   "source": [
    "def sign(s):\n",
    "    return np.where(s >= 0, 1, -1)\n",
    "\n",
    "def dertanh(s):\n",
    "    return 1-np.tanh(s)**2"
   ]
  },
  {
   "cell_type": "code",
   "execution_count": 461,
   "metadata": {},
   "outputs": [
    {
     "name": "stderr",
     "output_type": "stream",
     "text": [
      "/home/sean/anaconda3/lib/python3.6/site-packages/ipykernel_launcher.py:3: FutureWarning: Method .as_matrix will be removed in a future version. Use .values instead.\n",
      "  This is separate from the ipykernel package so we can avoid doing imports until\n"
     ]
    }
   ],
   "source": [
    "def loadData(filename):\n",
    "    data = pd.read_csv(filename, sep='\\s+', header=None)\n",
    "    data = data.as_matrix()\n",
    "    col, row = data.shape\n",
    "    X = np.c_[np.ones((col, 1)), data[:, 0: row-1]]\n",
    "    Y = data[:, row-1: row]\n",
    "    return X, Y\n",
    "\n",
    "X_train, Y_train = loadData('hw4_nnet_train.dat')\n",
    "Xtest, Ytest = loadData('hw4_nnet_test.dat')"
   ]
  },
  {
   "cell_type": "code",
   "execution_count": 467,
   "metadata": {},
   "outputs": [],
   "source": [
    "def backprop(X, Y, eta, s, r, T):\n",
    "    m, n = X.shape\n",
    "    W1 = np.random.uniform(low=-r, high=r, size=(3, s))\n",
    "    W2 = np.random.uniform(low=-r, high=r, size=(s + 1, 1))\n",
    "    for i in np.arange(T):\n",
    "        random_m = np.random.randint(0, m)\n",
    "        x0 = X[random_m, :]\n",
    "        y0 = Y[random_m][0]\n",
    "        S1 = x0.dot(W1)\n",
    "        X1 = np.tanh(S1)\n",
    "        X1 = np.concatenate((np.ones((1, 1)), X1.reshape(1, len(X1))), axis=1)\n",
    "        S2 = X1.dot(W2)\n",
    "        X2 = np.tanh(S2)[0][0]\n",
    "        delta2 = -2*(y0 - X2)\n",
    "        delta1 = (delta2 * W2[1:, :]).T * dertanh(S1)\n",
    "        W1 -= eta * np.mat(x0).T.dot(delta1)\n",
    "        W2 -= eta * X1.T * delta2\n",
    "    return W1, W2"
   ]
  },
  {
   "cell_type": "code",
   "execution_count": 468,
   "metadata": {},
   "outputs": [],
   "source": [
    "def err_func(W1, W2, X, Y):\n",
    "    row, col = X.shape\n",
    "    x = X\n",
    "    x = np.c_[np.ones((row, 1)), np.tanh(x.dot(W1))]\n",
    "    Yhat = np.tanh(x.dot(W2))\n",
    "    return np.sum(sign(Yhat) != Y)/row"
   ]
  },
  {
   "cell_type": "code",
   "execution_count": 473,
   "metadata": {},
   "outputs": [],
   "source": [
    "def test_m():\n",
    "    eout = np.inf\n",
    "    repeats = 5\n",
    "    M = [1, 6, 11, 16, 21]\n",
    "    for p in M:\n",
    "        eout_temp = 0\n",
    "        for repeat in np.arange(repeats):\n",
    "            W1, W2 = backprop(X_train, Y_train, 0.1, p, 0.1, 50000)\n",
    "            error =  err_func(W1, W2, Xtest, Ytest)\n",
    "            eout_temp += error\n",
    "        eout_temp = eout_temp / repeats\n",
    "        print(\"m = %d, error = %f\" %(p, eout_temp))\n",
    "        if eout > eout_temp:\n",
    "            eout = eout_temp\n",
    "            best_m = p\n",
    "    return eout, best_m"
   ]
  },
  {
   "cell_type": "code",
   "execution_count": 474,
   "metadata": {},
   "outputs": [
    {
     "name": "stdout",
     "output_type": "stream",
     "text": [
      "m = 1, error = 0.288800\n",
      "m = 6, error = 0.036000\n",
      "m = 11, error = 0.036000\n",
      "m = 16, error = 0.036000\n",
      "m = 21, error = 0.036800\n"
     ]
    },
    {
     "data": {
      "text/plain": [
       "(0.036, 6)"
      ]
     },
     "execution_count": 474,
     "metadata": {},
     "output_type": "execute_result"
    }
   ],
   "source": [
    "test_m()"
   ]
  },
  {
   "cell_type": "code",
   "execution_count": 475,
   "metadata": {},
   "outputs": [],
   "source": [
    "def test_r():\n",
    "    eout = np.inf\n",
    "    repeats = 5\n",
    "    r = [0, 0.1, 10, 100, 1000]\n",
    "    for p in r:\n",
    "        eout_temp = 0\n",
    "        for repeat in np.arange(repeats):\n",
    "            W1, W2 = backprop(X_train, Y_train, 0.1, 3, p, 50000)\n",
    "            error =  err_func(W1, W2, Xtest, Ytest)\n",
    "            eout_temp += error\n",
    "        eout_temp = eout_temp / repeats\n",
    "        print(\"r = %f, error = %f\" %(p, eout_temp))\n",
    "        if eout > eout_temp:\n",
    "            eout = eout_temp\n",
    "            best_r = p\n",
    "    return eout, best_r"
   ]
  },
  {
   "cell_type": "code",
   "execution_count": 476,
   "metadata": {},
   "outputs": [
    {
     "name": "stdout",
     "output_type": "stream",
     "text": [
      "m = 0, error = 0.505600\n",
      "m = 0, error = 0.036000\n",
      "m = 10, error = 0.151200\n",
      "m = 100, error = 0.340000\n",
      "m = 1000, error = 0.475200\n"
     ]
    },
    {
     "data": {
      "text/plain": [
       "(0.036, 0.1)"
      ]
     },
     "execution_count": 476,
     "metadata": {},
     "output_type": "execute_result"
    }
   ],
   "source": [
    "test_r()"
   ]
  },
  {
   "cell_type": "code",
   "execution_count": 479,
   "metadata": {},
   "outputs": [],
   "source": [
    "def test_eta():\n",
    "    eout = np.inf\n",
    "    repeats = 5\n",
    "    eta = [0.001, 0.01, 0.1, 1, 10]\n",
    "    for p in eta:\n",
    "        eout_temp = 0\n",
    "        for repeat in np.arange(repeats):\n",
    "            W1, W2 = backprop(X_train, Y_train, p, 3, 0.1, 50000)\n",
    "            error =  err_func(W1, W2, Xtest, Ytest)\n",
    "            eout_temp += error\n",
    "        eout_temp = eout_temp / repeats\n",
    "        print(\"eta = %f, error = %f\" %(p, eout_temp))\n",
    "        if eout > eout_temp:\n",
    "            eout = eout_temp\n",
    "            best_eta = p\n",
    "    return eout, best_eta"
   ]
  },
  {
   "cell_type": "code",
   "execution_count": 480,
   "metadata": {},
   "outputs": [
    {
     "name": "stdout",
     "output_type": "stream",
     "text": [
      "eta = 0.001000, error = 0.128800\n",
      "eta = 0.010000, error = 0.036000\n",
      "eta = 0.100000, error = 0.036000\n",
      "eta = 1.000000, error = 0.294400\n",
      "eta = 10.000000, error = 0.484800\n"
     ]
    },
    {
     "data": {
      "text/plain": [
       "(0.036, 0.01)"
      ]
     },
     "execution_count": 480,
     "metadata": {},
     "output_type": "execute_result"
    }
   ],
   "source": [
    "test_eta()"
   ]
  }
 ],
 "metadata": {
  "kernelspec": {
   "display_name": "Python 3",
   "language": "python",
   "name": "python3"
  },
  "language_info": {
   "codemirror_mode": {
    "name": "ipython",
    "version": 3
   },
   "file_extension": ".py",
   "mimetype": "text/x-python",
   "name": "python",
   "nbconvert_exporter": "python",
   "pygments_lexer": "ipython3",
   "version": "3.6.5"
  }
 },
 "nbformat": 4,
 "nbformat_minor": 2
}
