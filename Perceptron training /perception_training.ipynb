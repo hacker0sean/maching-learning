{
 "cells": [
  {
   "cell_type": "markdown",
   "metadata": {},
   "source": [
    "训练集， 正实例点是$x_1 = (3, 3)^T, x_2 = (4, 3)^T$, 负实例点是$x_3 = (1, 1)^T$, 用感知机学习算法的原始形式求感知机模型$f(x) = sign(wx + b)$. 这里， $w = (w^{(1)}, w^{(2)})^T, x =(x^{(1)}, x^{(2)})^T$"
   ]
  },
  {
   "cell_type": "code",
   "execution_count": 237,
   "metadata": {},
   "outputs": [],
   "source": [
    "import numpy as np\n",
    "import matplotlib.pyplot as plt\n",
    "%matplotlib inline\n",
    "import ipdb"
   ]
  },
  {
   "cell_type": "markdown",
   "metadata": {},
   "source": [
    "统计学习方法`P29`原始形式`"
   ]
  },
  {
   "cell_type": "code",
   "execution_count": 98,
   "metadata": {},
   "outputs": [],
   "source": [
    "#初始化训练集以及学习率\n",
    "training_set = np.array([[3,3,1], [4,3,1], [1,1,1]])\n",
    "training_y = [1, 1, -1]\n",
    "n = 1"
   ]
  },
  {
   "cell_type": "code",
   "execution_count": 99,
   "metadata": {},
   "outputs": [],
   "source": [
    "#定义感知机模型\n",
    "def sign(w, x):\n",
    "    return np.array(w).dot(x.T)"
   ]
  },
  {
   "cell_type": "markdown",
   "metadata": {},
   "source": [
    "`步骤一`初始化w0, b0, 这里我们采用向量的形式， $\\hat{w} = (w0, b0)$"
   ]
  },
  {
   "cell_type": "code",
   "execution_count": 100,
   "metadata": {},
   "outputs": [],
   "source": [
    "w0 = (0, 0, 0)"
   ]
  },
  {
   "cell_type": "code",
   "execution_count": 101,
   "metadata": {},
   "outputs": [
    {
     "name": "stdout",
     "output_type": "stream",
     "text": [
      "Iteration 1 : 误分类点: x(1)  w =  [3 3 1]\n",
      "Iteration 2 : 误分类点: x(3)  w =  [2 2 0]\n",
      "Iteration 3 : 误分类点: x(3)  w =  [ 1  1 -1]\n",
      "Iteration 4 : 误分类点: x(3)  w =  [ 0  0 -2]\n",
      "Iteration 5 : 误分类点: x(1)  w =  [ 3  3 -1]\n",
      "Iteration 6 : 误分类点: x(3)  w =  [ 2  2 -2]\n",
      "Iteration 7 : 误分类点: x(3)  w =  [ 1  1 -3]\n"
     ]
    }
   ],
   "source": [
    "#步骤四：重复直至updata为True\n",
    "updata = False\n",
    "i = 0\n",
    "while updata == False:\n",
    "    #首先将updata置为True， 如果步骤二执行期间没有发现要更新w0，则步骤四执行结束\n",
    "    updata = True\n",
    "    #步骤二:在训练集中选取数据（xi，yi）\n",
    "    for index, point in enumerate(training_set):\n",
    "        if (training_y[index] * sign(w0, point)) <= 0:\n",
    "            #步骤三：更新w0 \n",
    "            w0 += n * training_y[index] * point\n",
    "            updata = False\n",
    "            i = i + 1\n",
    "            print(\"Iteration %s\" % i, \": 误分类点: x(%s)\" % (index + 1), \" w = \", w0)"
   ]
  },
  {
   "cell_type": "markdown",
   "metadata": {},
   "source": [
    "***作图来验证最后分类效果***"
   ]
  },
  {
   "cell_type": "code",
   "execution_count": 102,
   "metadata": {},
   "outputs": [
    {
     "data": {
      "text/plain": [
       "[<matplotlib.lines.Line2D at 0x7f1d0255ba58>]"
      ]
     },
     "execution_count": 102,
     "metadata": {},
     "output_type": "execute_result"
    },
    {
     "data": {
      "image/png": "[encoded data removed]",
      "text/plain": [
       "<Figure size 432x288 with 1 Axes>"
      ]
     },
     "metadata": {},
     "output_type": "display_data"
    }
   ],
   "source": [
    "fig = plt.figure()\n",
    "ax = fig.add_subplot(111)\n",
    "ax.scatter(training_set[:,0], training_set[:,1])\n",
    "x = np.linspace(1, 3)\n",
    "# 根据w(1)*x(1) + w(2)*x(2) + b= 0, 我们求得y=x(2)=...\n",
    "y = (w0[2]+x*w0[0])/(-w0[1])\n",
    "ax.plot(x, y)"
   ]
  },
  {
   "cell_type": "markdown",
   "metadata": {},
   "source": [
    "由于数据比较简单， 可以看出分类的效果很好。下面我们不妨将其编成一整个函数模块，再用一个复杂点的例子来验证一下。"
   ]
  },
  {
   "cell_type": "code",
   "execution_count": 115,
   "metadata": {},
   "outputs": [],
   "source": [
    "def perception_training(training_set, training_y):\n",
    "    def sign(w, x):\n",
    "        return np.array(w).dot(x.T)\n",
    "\n",
    "    updata = False\n",
    "    i = 0\n",
    "    w0 = (0, 0, 0)\n",
    "    while updata == False:\n",
    "        updata = True\n",
    "        for index, point in enumerate(training_set):\n",
    "            if (training_y[index] * sign(w0, point)) <= 0:\n",
    "                w0 += n * training_y[index] * point\n",
    "                updata = False\n",
    "                i = i + 1\n",
    "                print(\"Iteration %s\" % i, \": 误分类点: x(%s)\" % (index + 1), \" w = \", w0)\n",
    "    print(\"Final :\", \"w(0)=\", w0[0], \",w(1)=\", w0[1], \",b=\", w0[2])\n",
    "    \n",
    "    fig = plt.figure()\n",
    "    ax = fig.add_subplot(111)\n",
    "    training_set_true = training_set[np.array(training_y) == 1]\n",
    "    training_set_false = training_set[np.array(training_y) == -1]\n",
    "    ax.scatter(training_set_true[:,0], training_set_true[:,1], c=\"red\")\n",
    "    ax.scatter(training_set_false[:,0], training_set_false[:,1], c=\"blue\")\n",
    "    x = np.linspace((training_set[:, 0]).min(), (training_set[:, 0]).max())\n",
    "    y = (w0[2]+x*w0[0])/(-w0[1])\n",
    "    ax.plot(x, y)"
   ]
  },
  {
   "cell_type": "code",
   "execution_count": 116,
   "metadata": {},
   "outputs": [
    {
     "name": "stdout",
     "output_type": "stream",
     "text": [
      "Iteration 1 : 误分类点: x(1)  w =  [1 3 1]\n",
      "Iteration 2 : 误分类点: x(5)  w =  [-1  2  0]\n",
      "Iteration 3 : 误分类点: x(5)  w =  [-3  1 -1]\n",
      "Iteration 4 : 误分类点: x(1)  w =  [-2  4  0]\n",
      "Iteration 5 : 误分类点: x(5)  w =  [-4  3 -1]\n",
      "Iteration 6 : 误分类点: x(2)  w =  [-2  5  0]\n",
      "Iteration 7 : 误分类点: x(5)  w =  [-4  4 -1]\n",
      "Iteration 8 : 误分类点: x(2)  w =  [-2  6  0]\n",
      "Iteration 9 : 误分类点: x(5)  w =  [-4  5 -1]\n",
      "Final : w(0)= -4 ,w(1)= 5 ,b= -1\n"
     ]
    },
    {
     "data": {
      "image/png": "[encoded data removed]",
      "text/plain": [
       "<Figure size 432x288 with 1 Axes>"
      ]
     },
     "metadata": {},
     "output_type": "display_data"
    }
   ],
   "source": [
    "training_set = np.array([[1, 3, 1], [2, 2, 1], [3, 8, 1], [2, 6, 1], [2, 1, 1], [4, 1, 1], [6, 2, 1], [7, 3, 1]])\n",
    "training_y = [1, 1, 1, 1, -1, -1, -1, -1]\n",
    "perception_training(training_set, training_y)"
   ]
  },
  {
   "cell_type": "markdown",
   "metadata": {},
   "source": [
    "下面考虑其对偶形式`P33`, 沿用上一个例子"
   ]
  },
  {
   "cell_type": "code",
   "execution_count": 279,
   "metadata": {},
   "outputs": [],
   "source": [
    "def perception_training_duailty(training_set, training_y):\n",
    "    def test(a, b, index, training):\n",
    "        #ipdb.set_trace()\n",
    "        result = ((a * training[:,[2]] * training[:,[0, 1]]).dot(training[index, [0, 1]])).sum() + b\n",
    "        return result \n",
    "\n",
    "    updata = False\n",
    "    i = 0\n",
    "    training = np.hstack((training_set[:,[0, 1]],(np.array(training_y)).reshape(len(training_y), 1)))\n",
    "    #步骤一：初始化a，b\n",
    "    a = np.zeros([len(training), 1])\n",
    "    b = 0\n",
    "    #步骤四：执行步骤二直至没有更新\n",
    "    while updata == False:\n",
    "        updata = True\n",
    "        #步骤二：选取数据\n",
    "        for index, point in enumerate(training):\n",
    "            #步骤三： 更新数据\n",
    "            if (training_y[index] * test(a, b, index, training)) <= 0:\n",
    "                updata = False\n",
    "                a[index] += eta\n",
    "                b = b + eta * training_y[index]\n",
    "                i = i + 1\n",
    "                print(\"iteration %s\" % i, \"a = {0} {1} {2}\".format(a[0][0], a[1][0], a[2][0]), \"b = \", b)\n",
    "                \n",
    "    w0 = (a * training[:, [2]] * training[:, [0, 1]]).sum(axis=0)          \n",
    "    print(\"Final :\", \"w(0)=\", w0[0], \",w(1)=\", w0[1], \",b=\", b)\n",
    "    \n",
    "    fig = plt.figure()\n",
    "    ax = fig.add_subplot(111)\n",
    "    training_set_true = training_set[np.array(training_y) == 1]\n",
    "    training_set_false = training_set[np.array(training_y) == -1]\n",
    "    ax.scatter(training_set_true[:,0], training_set_true[:,1], c=\"red\")\n",
    "    ax.scatter(training_set_false[:,0], training_set_false[:,1], c=\"blue\")\n",
    "    x = np.linspace((training_set[:, 0]).min(), (training_set[:, 0]).max())\n",
    "    y = (b+x*w0[0])/(-w0[1])\n",
    "    ax.plot(x, y)"
   ]
  },
  {
   "cell_type": "code",
   "execution_count": 281,
   "metadata": {
    "scrolled": true
   },
   "outputs": [
    {
     "name": "stdout",
     "output_type": "stream",
     "text": [
      "iteration 1 a = 1.0 0.0 0.0 b =  1\n",
      "iteration 2 a = 1.0 0.0 0.0 b =  0\n",
      "iteration 3 a = 1.0 0.0 0.0 b =  -1\n",
      "iteration 4 a = 2.0 0.0 0.0 b =  0\n",
      "iteration 5 a = 2.0 0.0 0.0 b =  -1\n",
      "iteration 6 a = 2.0 1.0 0.0 b =  0\n",
      "iteration 7 a = 2.0 1.0 0.0 b =  -1\n",
      "iteration 8 a = 2.0 2.0 0.0 b =  0\n",
      "iteration 9 a = 2.0 2.0 0.0 b =  -1\n",
      "Final : w(0)= -4.0 ,w(1)= 5.0 ,b= -1\n"
     ]
    },
    {
     "data": {
      "image/png": "[encoded data removed]",
      "text/plain": [
       "<Figure size 432x288 with 1 Axes>"
      ]
     },
     "metadata": {},
     "output_type": "display_data"
    }
   ],
   "source": [
    "training_set = np.array([[1, 3, 1], [2, 2, 1], [3, 8, 1], [2, 6, 1], [2, 1, 1], [4, 1, 1], [6, 2, 1], [7, 3, 1]])\n",
    "training_y = [1, 1, 1, 1, -1, -1, -1, -1]\n",
    "perception_training_duailty(training_set, training_y)"
   ]
  }
 ],
 "metadata": {
  "kernelspec": {
   "display_name": "Python 3",
   "language": "python",
   "name": "python3"
  },
  "language_info": {
   "codemirror_mode": {
    "name": "ipython",
    "version": 3
   },
   "file_extension": ".py",
   "mimetype": "text/x-python",
   "name": "python",
   "nbconvert_exporter": "python",
   "pygments_lexer": "ipython3",
   "version": "3.6.5"
  }
 },
 "nbformat": 4,
 "nbformat_minor": 2
}
