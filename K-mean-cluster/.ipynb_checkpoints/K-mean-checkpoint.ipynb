{
 "cells": [
  {
   "cell_type": "code",
   "execution_count": 13,
   "metadata": {},
   "outputs": [],
   "source": [
    "from numpy import *\n",
    "\n",
    "def loadDataSet(fileName):      #general function to parse tab -delimited floats\n",
    "    dataMat = []                #assume last column is target value\n",
    "    fr = open(fileName)\n",
    "    for line in fr.readlines():\n",
    "        curLine = line.strip().split('\\t')\n",
    "        fltLine = [float(i) for i in curLine] #map all elements to float()\n",
    "        dataMat.append(fltLine)\n",
    "    return dataMat\n",
    "\n",
    "def distEclud(vecA, vecB):\n",
    "    return sqrt(sum(power(vecA - vecB, 2))) #la.norm(vecA-vecB)\n",
    "\n",
    "def randCent(dataSet, k):\n",
    "    n = shape(dataSet)[1]\n",
    "    centroids = mat(zeros((k,n)))#create centroid mat\n",
    "    for j in range(n):#create random cluster centers, within bounds of each dimension\n",
    "        minJ = min(dataSet[:,j]) \n",
    "        rangeJ = float(max(dataSet[:,j]) - minJ)\n",
    "        centroids[:,j] = mat(minJ + rangeJ * random.rand(k,1))\n",
    "    return centroids"
   ]
  },
  {
   "cell_type": "code",
   "execution_count": 21,
   "metadata": {},
   "outputs": [
    {
     "data": {
      "text/plain": [
       "matrix([[ 3.84532082, -2.6264032 ],\n",
       "        [-5.10796274, -3.20909597]])"
      ]
     },
     "execution_count": 21,
     "metadata": {},
     "output_type": "execute_result"
    }
   ],
   "source": [
    "datMat = mat(loadDataSet('testSet.txt'))\n",
    "randCent(datMat, 2)"
   ]
  },
  {
   "cell_type": "code",
   "execution_count": 45,
   "metadata": {},
   "outputs": [],
   "source": [
    "def kMeans(dataSet, k, distMeas=distEclud, createCent=randCent):\n",
    "    m = shape(dataSet)[0]\n",
    "    clusterAssment = mat(zeros((m,2)))#create mat to assign data points \n",
    "                                      #to a centroid, also holds SE of each point\n",
    "    centroids = createCent(dataSet, k)\n",
    "    clusterChanged = True\n",
    "    while clusterChanged:\n",
    "        clusterChanged = False\n",
    "        for i in range(m):#for each data point assign it to the closest centroid\n",
    "            minDist = inf; minIndex = -1\n",
    "            for j in range(k):\n",
    "                distJI = distMeas(centroids[j,:],dataSet[i,:])\n",
    "                if distJI < minDist:\n",
    "                    minDist = distJI; minIndex = j\n",
    "            if clusterAssment[i,0] != minIndex: clusterChanged = True\n",
    "            clusterAssment[i,:] = minIndex,minDist**2\n",
    "        #print(centroids)\n",
    "        for cent in range(k):#recalculate centroids\n",
    "            ptsInClust = dataSet[nonzero(clusterAssment[:,0].A==cent)[0]]#get all the point in this cluster\n",
    "            centroids[cent,:] = mean(ptsInClust, axis=0) #assign centroid to mean \n",
    "    return centroids, clusterAssment"
   ]
  },
  {
   "cell_type": "code",
   "execution_count": 46,
   "metadata": {},
   "outputs": [],
   "source": [
    "centroid, clusterAssment = kMeans(datMat, 4)"
   ]
  },
  {
   "cell_type": "code",
   "execution_count": 107,
   "metadata": {},
   "outputs": [],
   "source": [
    "def biKmeans(dataSet, k, distMeas=distEclud):\n",
    "    m = shape(dataSet)[0]\n",
    "    clusterAssment = mat(zeros((m,2)))\n",
    "    centroid0 = mean(dataSet, axis=0).tolist()[0]\n",
    "    centList =[centroid0] #create a list with one centroid\n",
    "    for j in range(m):#calc initial Error\n",
    "        clusterAssment[j,1] = distMeas(mat(centroid0), dataSet[j,:])**2\n",
    "    while (len(centList) < k):\n",
    "        lowestSSE = inf\n",
    "        for i in range(len(centList)):\n",
    "            ptsInCurrCluster = dataSet[nonzero(clusterAssment[:,0].A==i)[0],:]#get the data points currently in cluster i\n",
    "            centroidMat, splitClustAss = kMeans(ptsInCurrCluster, 2, distMeas)\n",
    "            sseSplit = sum(splitClustAss[:,1])#compare the SSE to the currrent minimum\n",
    "            sseNotSplit = sum(clusterAssment[nonzero(clusterAssment[:,0].A!=i)[0],1])\n",
    "            print(\"sseSplit, and notSplit: \",sseSplit,sseNotSplit)\n",
    "            if (sseSplit + sseNotSplit) < lowestSSE:\n",
    "                bestCentToSplit = i\n",
    "                bestNewCents = centroidMat\n",
    "                bestClustAss = splitClustAss.copy()\n",
    "                lowestSSE = sseSplit + sseNotSplit\n",
    "        bestClustAss[nonzero(bestClustAss[:,0].A == 1)[0],0] = len(centList) #change 1 to 3,4, or whatever\n",
    "        bestClustAss[nonzero(bestClustAss[:,0].A == 0)[0],0] = bestCentToSplit\n",
    "        print('the bestCentToSplit is: ',bestCentToSplit)\n",
    "        print('the len of bestClustAss is: ', len(bestClustAss))\n",
    "        centList[bestCentToSplit] = bestNewCents[0,:].tolist()[0]#replace a centroid with two best centroids \n",
    "        centList.append(bestNewCents[1,:].tolist()[0])\n",
    "        clusterAssment[nonzero(clusterAssment[:,0].A == bestCentToSplit)[0],:]= bestClustAss#reassign new clusters, and SSE\n",
    "    return mat(centList), clusterAssment"
   ]
  },
  {
   "cell_type": "code",
   "execution_count": 120,
   "metadata": {},
   "outputs": [
    {
     "name": "stdout",
     "output_type": "stream",
     "text": [
      "sseSplit, and notSplit:  541.2976292649145 0.0\n",
      "the bestCentToSplit is:  0\n",
      "the len of bestClustAss is:  60\n",
      "sseSplit, and notSplit:  67.2202000797829 39.52929868209309\n",
      "sseSplit, and notSplit:  23.79175073044931 501.7683305828214\n",
      "the bestCentToSplit is:  0\n",
      "the len of bestClustAss is:  40\n"
     ]
    },
    {
     "data": {
      "text/plain": [
       "(matrix([[-2.94737575,  3.3263781 ],\n",
       "         [ 2.93386365,  3.12782785],\n",
       "         [-0.45965615, -2.7782156 ]]),\n",
       " matrix([[1.00000000e+00, 1.45461050e-01],\n",
       "         [0.00000000e+00, 6.80213825e-01],\n",
       "         [2.00000000e+00, 1.02184582e+00],\n",
       "         [1.00000000e+00, 1.34548760e+00],\n",
       "         [0.00000000e+00, 1.35376464e+00],\n",
       "         [2.00000000e+00, 3.87167519e+00],\n",
       "         [1.00000000e+00, 8.37259951e-01],\n",
       "         [0.00000000e+00, 2.20116272e-01],\n",
       "         [2.00000000e+00, 3.53809057e+00],\n",
       "         [1.00000000e+00, 7.44081160e+00],\n",
       "         [0.00000000e+00, 5.28070040e+00],\n",
       "         [2.00000000e+00, 2.56674394e-02],\n",
       "         [1.00000000e+00, 1.11946529e+00],\n",
       "         [0.00000000e+00, 1.67890884e-01],\n",
       "         [2.00000000e+00, 2.11734245e+00],\n",
       "         [1.00000000e+00, 1.49635209e+00],\n",
       "         [0.00000000e+00, 4.93628241e+00],\n",
       "         [2.00000000e+00, 9.76749869e-03],\n",
       "         [1.00000000e+00, 1.32453845e-01],\n",
       "         [0.00000000e+00, 6.39346045e-01],\n",
       "         [2.00000000e+00, 9.41791924e-01],\n",
       "         [1.00000000e+00, 1.72445523e+00],\n",
       "         [0.00000000e+00, 7.50682798e-01],\n",
       "         [2.00000000e+00, 1.48785604e-01],\n",
       "         [1.00000000e+00, 3.00429548e+00],\n",
       "         [0.00000000e+00, 5.15437527e+00],\n",
       "         [2.00000000e+00, 1.80316434e+00],\n",
       "         [1.00000000e+00, 2.74825782e+00],\n",
       "         [0.00000000e+00, 4.66860313e-01],\n",
       "         [2.00000000e+00, 1.28807718e+00],\n",
       "         [1.00000000e+00, 1.76804356e+00],\n",
       "         [0.00000000e+00, 3.54002368e+00],\n",
       "         [2.00000000e+00, 2.12516750e+00],\n",
       "         [1.00000000e+00, 1.14812052e+00],\n",
       "         [0.00000000e+00, 1.78247878e+00],\n",
       "         [2.00000000e+00, 8.79445646e-01],\n",
       "         [1.00000000e+00, 3.23315472e+00],\n",
       "         [0.00000000e+00, 7.43934371e-01],\n",
       "         [2.00000000e+00, 2.36276631e+00],\n",
       "         [1.00000000e+00, 2.59370616e-01],\n",
       "         [0.00000000e+00, 1.82015977e+00],\n",
       "         [2.00000000e+00, 2.10599050e+00],\n",
       "         [1.00000000e+00, 2.94567602e+00],\n",
       "         [0.00000000e+00, 2.49952822e+00],\n",
       "         [2.00000000e+00, 1.54957269e+00],\n",
       "         [1.00000000e+00, 9.45169633e-01],\n",
       "         [0.00000000e+00, 2.91966903e+00],\n",
       "         [2.00000000e+00, 1.13851139e+00],\n",
       "         [1.00000000e+00, 5.09476462e+00],\n",
       "         [0.00000000e+00, 1.64971118e+00],\n",
       "         [2.00000000e+00, 1.98934951e-01],\n",
       "         [1.00000000e+00, 1.50301593e+00],\n",
       "         [0.00000000e+00, 2.13359760e-01],\n",
       "         [2.00000000e+00, 2.16005416e+00],\n",
       "         [1.00000000e+00, 2.63462894e+00],\n",
       "         [0.00000000e+00, 7.60898177e-02],\n",
       "         [2.00000000e+00, 2.60198288e-01],\n",
       "         [1.00000000e+00, 3.05416591e-03],\n",
       "         [0.00000000e+00, 3.16776316e+00],\n",
       "         [2.00000000e+00, 1.61040000e+00]]))"
      ]
     },
     "execution_count": 120,
     "metadata": {},
     "output_type": "execute_result"
    }
   ],
   "source": [
    "datMat3 = loadDataSet('testSet2.txt')\n",
    "biKmeans(mat(datMat3), 3)"
   ]
  }
 ],
 "metadata": {
  "kernelspec": {
   "display_name": "Python 3",
   "language": "python",
   "name": "python3"
  },
  "language_info": {
   "codemirror_mode": {
    "name": "ipython",
    "version": 3
   },
   "file_extension": ".py",
   "mimetype": "text/x-python",
   "name": "python",
   "nbconvert_exporter": "python",
   "pygments_lexer": "ipython3",
   "version": "3.6.5"
  }
 },
 "nbformat": 4,
 "nbformat_minor": 2
}
