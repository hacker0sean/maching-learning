{
 "cells": [
  {
   "cell_type": "code",
   "execution_count": 23,
   "metadata": {},
   "outputs": [],
   "source": [
    "import pandas as pd\n",
    "import numpy as np"
   ]
  },
  {
   "cell_type": "code",
   "execution_count": 69,
   "metadata": {},
   "outputs": [],
   "source": [
    "train = pd.read_csv('hw4_train.dat', header=None, sep='\\s', engine='python')\n",
    "test = pd.read_csv('hw4_test.dat', header=None, sep='\\s', engine='python')"
   ]
  },
  {
   "cell_type": "code",
   "execution_count": 74,
   "metadata": {},
   "outputs": [],
   "source": [
    "X_train = np.concatenate((np.ones((len(train),1)), train.iloc[:, [0, 1]]), axis=1)\n",
    "Y_train = np.array(train.iloc[:, [2]])\n",
    "X_test = np.concatenate((np.ones((len(test),1)), test.iloc[:, [0, 1]]), axis=1)\n",
    "Y_test = np.array(test.iloc[:, [2]])\n",
    "lamb = 10"
   ]
  },
  {
   "cell_type": "code",
   "execution_count": 75,
   "metadata": {},
   "outputs": [],
   "source": [
    "def sign(x):\n",
    "    return np.where(x > 0, 1, -1)"
   ]
  },
  {
   "cell_type": "code",
   "execution_count": 76,
   "metadata": {},
   "outputs": [],
   "source": [
    "def regu_regression(X, y, lamb):\n",
    "    X_mat = np.mat(X)\n",
    "    eye_mat = np.eye(X_train.shape[1])\n",
    "    weights = np.linalg.pinv(X_mat.T.dot(X_mat) + lamb * eye_mat).dot(X_mat.T).dot(y)\n",
    "    return weights.A"
   ]
  },
  {
   "cell_type": "code",
   "execution_count": 80,
   "metadata": {},
   "outputs": [],
   "source": [
    "def mistake(X, Y, theta):\n",
    "    yhat = np.sign(X.dot(theta))\n",
    "    yhat[yhat == 0] = -1\n",
    "    err = np.sum(yhat != Y)/len(Y)\n",
    "    return err"
   ]
  },
  {
   "cell_type": "code",
   "execution_count": 77,
   "metadata": {},
   "outputs": [
    {
     "data": {
      "text/plain": [
       "array([[-0.93238149],\n",
       "       [ 1.04618645],\n",
       "       [ 1.046171  ]])"
      ]
     },
     "execution_count": 77,
     "metadata": {},
     "output_type": "execute_result"
    }
   ],
   "source": [
    "weights = regu_regression(X_train, Y_train, lamb)\n",
    "weights"
   ]
  },
  {
   "cell_type": "code",
   "execution_count": 102,
   "metadata": {},
   "outputs": [
    {
     "data": {
      "text/plain": [
       "-1"
      ]
     },
     "execution_count": 102,
     "metadata": {},
     "output_type": "execute_result"
    }
   ],
   "source": [
    "lamb"
   ]
  },
  {
   "cell_type": "code",
   "execution_count": 118,
   "metadata": {},
   "outputs": [],
   "source": [
    "arr = np.arange(-10, 3, 1)\n",
    "lambs = 10.0**arr"
   ]
  },
  {
   "cell_type": "code",
   "execution_count": 127,
   "metadata": {},
   "outputs": [
    {
     "name": "stdout",
     "output_type": "stream",
     "text": [
      "-8.0\n",
      "0.015\n",
      "0.02\n"
     ]
    }
   ],
   "source": [
    "#14\n",
    "min_ein = np.inf\n",
    "for lamb in lambs:\n",
    "    weights = regu_regression(X_train, Y_train, lamb)\n",
    "    Ein = mistake(X_train, Y_train, weights)\n",
    "    if Ein <= min_ein:\n",
    "        min_ein = Ein\n",
    "        min_lamb = lamb\n",
    "        min_weights = weights\n",
    "Eout = mistake(X_test, Y_test, min_weights)\n",
    "print(np.log10(min_lamb))\n",
    "print(min_ein)\n",
    "print(Eout)"
   ]
  },
  {
   "cell_type": "code",
   "execution_count": 130,
   "metadata": {},
   "outputs": [
    {
     "name": "stdout",
     "output_type": "stream",
     "text": [
      "-7.0\n",
      "0.03\n",
      "0.015\n"
     ]
    }
   ],
   "source": [
    "#15\n",
    "min_eout = np.inf\n",
    "for lamb in lambs:\n",
    "    weights = regu_regression(X_train, Y_train, lamb)\n",
    "    Eout = mistake(X_test, Y_test, weights)   \n",
    "    if Eout <= min_eout:\n",
    "        min_eout = Eout\n",
    "        min_lamb = lamb\n",
    "        min_weights = weights\n",
    "Ein = mistake(X_train, Y_train, min_weights)\n",
    "print(np.log10(min_lamb))\n",
    "print(Ein)\n",
    "print(min_eout)"
   ]
  }
 ],
 "metadata": {
  "kernelspec": {
   "display_name": "Python 3",
   "language": "python",
   "name": "python3"
  },
  "language_info": {
   "codemirror_mode": {
    "name": "ipython",
    "version": 3
   },
   "file_extension": ".py",
   "mimetype": "text/x-python",
   "name": "python",
   "nbconvert_exporter": "python",
   "pygments_lexer": "ipython3",
   "version": "3.6.5"
  }
 },
 "nbformat": 4,
 "nbformat_minor": 2
}
