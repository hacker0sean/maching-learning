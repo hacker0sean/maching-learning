{
 "cells": [
  {
   "cell_type": "markdown",
   "metadata": {},
   "source": [
    "***统计学习方法 ***`P41 - P43`"
   ]
  },
  {
   "cell_type": "markdown",
   "metadata": {},
   "source": [
    "***在机器学习实战中， 作者给出KNN算法的雏形，其中所用到的数据结构是一个很简单的线性数组（Numpy），当然其内部已经进行了某种优化，但在这里我们假设它搜索最近邻居时是逐个搜索，也就是O（N）时间复杂度。在统计学习方法中，作者提出了KD-tree这一数据结构，使得搜索的时间复杂度可以达到O（logN）。下面主要就是KD-tree的实现。***"
   ]
  },
  {
   "cell_type": "code",
   "execution_count": 1,
   "metadata": {},
   "outputs": [],
   "source": [
    "import numpy as np\n",
    "import ipdb\n",
    "from time import clock\n",
    "from random import random\n",
    "import sys"
   ]
  },
  {
   "cell_type": "code",
   "execution_count": 29,
   "metadata": {},
   "outputs": [],
   "source": [
    "#Kd_tree主要有左孩子，右孩子，自身的坐标，以及坐标分类所依据的维度四部分组成\n",
    "class KD_Node(object):\n",
    "    def __init__(self, point, dim=None, left=None, right=None):\n",
    "        self.point = point#坐标\n",
    "        self.dim = dim#分类依据的维度\n",
    "        self.left = left\n",
    "        self.right = right\n",
    "        \n",
    "class KD_tree(object):\n",
    "    root = None\n",
    "    def __init__(self, data): \n",
    "        #构建KD树， 使用递归\n",
    "        def create_tree(data):\n",
    "            max_std = 0\n",
    "            index = 0\n",
    "            if len(data) == 0:\n",
    "                return ;\n",
    "            for i in np.arange(data.shape[1]):\n",
    "                std = data[:,i].std()\n",
    "                if std > max_std:\n",
    "                    max_std = std\n",
    "                    index = i\n",
    "            data = data[data[:, index].argsort()]\n",
    "            root = KD_Node(data[int(len(data) / 2)], index)\n",
    "            #ipdb.set_trace()\n",
    "            \n",
    "            left = data[:int(len(data) / 2)]\n",
    "            right = data[np.array([int(len(data) / 2)+1, len(data)]).min():]\n",
    "\n",
    "            root.left = create_tree(left)\n",
    "            root.right = create_tree(right)\n",
    "            return root\n",
    "        self.root = create_tree(data)\n",
    "        \n",
    "def pre_order(root):\n",
    "    print(root.point)\n",
    "    if root.left:\n",
    "        pre_order(root.left)\n",
    "    if root.right:\n",
    "        pre_order(root.right)"
   ]
  },
  {
   "cell_type": "code",
   "execution_count": 30,
   "metadata": {},
   "outputs": [
    {
     "name": "stdout",
     "output_type": "stream",
     "text": [
      "[7 2]\n",
      "[5 4]\n",
      "[2 3]\n",
      "[4 7]\n",
      "[9 6]\n",
      "[8 1]\n"
     ]
    }
   ],
   "source": [
    "data = np.array([[2,3],[5,4],[9,6],[4,7],[8,1],[7,2]])\n",
    "kd = KD_tree(data)\n",
    "pre_order(kd.root)"
   ]
  },
  {
   "cell_type": "code",
   "execution_count": 51,
   "metadata": {},
   "outputs": [],
   "source": [
    "def nearest_neighbour(root, node):\n",
    "    def My_print():\n",
    "        print(\"Distance = \", distance, \"\\nkN_Point = \",final_point.point)\n",
    "    if root is None:\n",
    "        return float(\"inf\"), None\n",
    "    nodes = []\n",
    "    #沿着Kd树一直向下搜寻最近点， 直至达到叶节点\n",
    "    #ipdb.set_trace()\n",
    "    further_node = None\n",
    "    while ((root.left != None) or (root.right != None)):\n",
    "        nodes.append(root)\n",
    "        if (root.left == None):\n",
    "            further_node = root.left\n",
    "            root = root.right\n",
    "        elif (root.right == None):\n",
    "            further_node = root.right\n",
    "            root = root.left\n",
    "        elif (root.point[root.dim] > node[root.dim]):\n",
    "            further_node = root.right\n",
    "            root = root.left\n",
    "        else:\n",
    "            further_node = root.left\n",
    "            root = root.right\n",
    "    nodes.append(root)\n",
    "    final_point = root\n",
    "    distance = np.sqrt(((root.point - np.array(node))**2).sum())\n",
    "    i = len(nodes) - 2\n",
    "    My_print()\n",
    "    #return nodes\n",
    "    #沿着所经过的节点一路回朔， 如果 到节点边界的距离 < distance， 那么进入另一分支进行迭代\n",
    "    while i != -1:\n",
    "        root = nodes[i]\n",
    "        #print(root.point)\n",
    "        temp_dis = np.sqrt(((root.point - np.array(node))**2).sum())\n",
    "        if temp_dis < distance:\n",
    "            distance = temp_dis\n",
    "            final_point = root\n",
    "            My_print()\n",
    "        if abs(root.point[root.dim] - node[root.dim]) < distance:\n",
    "            #ipdb.set_trace()\n",
    "            if (further_node != None):\n",
    "                temp_dis, temp_point = nearest_neighbour(further_node, node)\n",
    "            else:\n",
    "                pass\n",
    "            if temp_dis < distance:\n",
    "                distance = temp_dis\n",
    "                final_point = temp_point\n",
    "        i -= 1\n",
    "    return distance, final_point"
   ]
  },
  {
   "cell_type": "code",
   "execution_count": 52,
   "metadata": {},
   "outputs": [
    {
     "name": "stdout",
     "output_type": "stream",
     "text": [
      "Distance =  2.692582403567252 \n",
      "kN_Point =  [4 7]\n",
      "Distance =  2.0615528128088303 \n",
      "kN_Point =  [5 4]\n",
      "Distance =  1.8027756377319946 \n",
      "kN_Point =  [2 3]\n",
      "[2 3]\n"
     ]
    }
   ],
   "source": [
    "data = np.array([[2,3],[5,4],[9,6],[4,7],[8,1],[7,2]])\n",
    "kd = KD_tree(data)\n",
    "distance, ret = nearest_neighbour(kd.root, [3,4.5])\n",
    "print(ret.point)"
   ]
  },
  {
   "cell_type": "code",
   "execution_count": 76,
   "metadata": {},
   "outputs": [
    {
     "name": "stdout",
     "output_type": "stream",
     "text": [
      "Distance =  0.08083255216865692 \n",
      "kN_Point =  [0.07772661 0.42486948 0.78017065]\n",
      "Distance =  0.054850931150903365 \n",
      "kN_Point =  [0.05211767 0.48524768 0.7776779 ]\n",
      "Distance =  0.02431545418476312 \n",
      "kN_Point =  [0.11146914 0.47856045 0.80021467]\n",
      "time:  0.6916060000000002 s\n",
      "<__main__.KD_Node object at 0x7f81845a7ac8>\n"
     ]
    }
   ],
   "source": [
    "\n",
    "def random_point(k):\n",
    "    return [random() for _ in range(k)]\n",
    "\n",
    "def random_points(k, n):\n",
    "    return [random_point(k) for _ in range(n)]  \n",
    "\n",
    "N = 10000\n",
    "t0 = clock()\n",
    "kd2 = KD_tree(np.array(random_points(3, N)))           \n",
    "distance, ret2 = nearest_neighbour(kd2.root, [0.1,0.5,0.8])\n",
    "t1 = clock()\n",
    "print(\"time: \",t1-t0, \"s\")\n",
    "print(ret2)"
   ]
  }
 ],
 "metadata": {
  "kernelspec": {
   "display_name": "Python 3",
   "language": "python",
   "name": "python3"
  },
  "language_info": {
   "codemirror_mode": {
    "name": "ipython",
    "version": 3
   },
   "file_extension": ".py",
   "mimetype": "text/x-python",
   "name": "python",
   "nbconvert_exporter": "python",
   "pygments_lexer": "ipython3",
   "version": "3.6.5"
  }
 },
 "nbformat": 4,
 "nbformat_minor": 2
}
