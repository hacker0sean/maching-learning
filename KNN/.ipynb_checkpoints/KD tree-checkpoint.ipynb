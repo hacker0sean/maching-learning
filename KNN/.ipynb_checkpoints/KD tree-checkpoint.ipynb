{
 "cells": [
  {
   "cell_type": "markdown",
   "metadata": {},
   "source": [
    "***统计学习方法 ***`P41 - P43`"
   ]
  },
  {
   "cell_type": "markdown",
   "metadata": {},
   "source": [
    "***在机器学习实战中， 作者给出KNN算法的雏形，其中所用到的数据结构是一个很简单的线性数组（Numpy），当然其内部已经进行了某种优化，但在这里我们假设它搜索最近邻居时是逐个搜索，也就是O（N）时间复杂度。在统计学习方法中，作者提出了KD-tree这一数据结构，使得搜索的时间复杂度可以达到O（logN）。下面主要就是KD-tree的实现。***"
   ]
  },
  {
   "cell_type": "code",
   "execution_count": 180,
   "metadata": {},
   "outputs": [],
   "source": [
    "import numpy as np\n",
    "import ipdb\n",
    "from time import clock\n",
    "from random import random"
   ]
  },
  {
   "cell_type": "code",
   "execution_count": 102,
   "metadata": {},
   "outputs": [],
   "source": [
    "#Kd_tree主要有左孩子，右孩子，自身的坐标，以及坐标分类所依据的维度四部分组成\n",
    "class KD_Node(object):\n",
    "    def __init__(self, point, dim=None, left=None, right=None):\n",
    "        self.point = point#坐标\n",
    "        self.dim = dim#分类依据的维度\n",
    "        self.left = left\n",
    "        self.right = right\n",
    "        \n",
    "class KD_tree(object):\n",
    "    root = None\n",
    "    def __init__(self, data): \n",
    "        #构建KD树， 使用递归\n",
    "        def create_tree(data):\n",
    "            max_std = 0\n",
    "            index = 0\n",
    "            #ipdb.set_trace()\n",
    "            for i in np.arange(data.shape[1]):\n",
    "                std = data[:,i].std()\n",
    "                if std > max_std:\n",
    "                    max_std = std\n",
    "                    index = i\n",
    "            data = data[data[:, index].argsort()]\n",
    "            root = KD_Node(data[int(len(data) / 2)], index)\n",
    "\n",
    "            left = data[:int(len(data) / 2)]\n",
    "            right = data[np.array([int(len(data) / 2)+1, len(data)]).min():]\n",
    "\n",
    "            if len(left) > 0:\n",
    "                root.left = create_tree(left)\n",
    "            if len(right) > 0:\n",
    "                root.right = create_tree(right)\n",
    "            return root\n",
    "        self.root = create_tree(data)\n",
    "        \n",
    "def pre_order(root):\n",
    "    print(root.point)\n",
    "    if root.left:\n",
    "        pre_order(root.left)\n",
    "    if root.right:\n",
    "        pre_order(root.right)"
   ]
  },
  {
   "cell_type": "code",
   "execution_count": 161,
   "metadata": {},
   "outputs": [
    {
     "name": "stdout",
     "output_type": "stream",
     "text": [
      "[7 2]\n",
      "[5 4]\n",
      "[2 3]\n",
      "[4 7]\n",
      "[9 6]\n",
      "[8 1]\n"
     ]
    }
   ],
   "source": [
    "data = np.array([[2,3],[5,4],[9,6],[4,7],[8,1],[7,2]])\n",
    "kd = KD_tree(data)\n",
    "pre_order(kd.root)"
   ]
  },
  {
   "cell_type": "code",
   "execution_count": 202,
   "metadata": {},
   "outputs": [],
   "source": [
    "def nearest_neighbour(root, node):\n",
    "    def My_print():\n",
    "        print(\"Distance = \", distance, \"\\nkN_Point = \",final_point.point)\n",
    "    nodes = []\n",
    "    #沿着Kd树一直向下搜寻最近点， 直至达到叶节点\n",
    "    while ((root.left != None) | (root.right != None)):\n",
    "        nodes.append(root)\n",
    "        if root.point[root.dim] > node[root.dim]:\n",
    "            root = root.left\n",
    "        else:\n",
    "            root = root.right\n",
    "    nodes.append(root)\n",
    "    final_point = root\n",
    "    distance = np.sqrt(((root.point - np.array(node))**2).sum())\n",
    "    i = len(nodes) - 2\n",
    "    My_print()\n",
    "    #return nodes\n",
    "    #沿着所经过的节点一路回朔， 如果 到节点边界的距离 < distance， 那么进入另一分支进行迭代\n",
    "    while i != -1:\n",
    "        root = nodes[i]\n",
    "        #print(root.point)\n",
    "        temp_dis = np.sqrt(((root.point - np.array(node))**2).sum())\n",
    "        if temp_dis < distance:\n",
    "            distance = temp_dis\n",
    "            final_point = root\n",
    "            My_print()\n",
    "        if abs(root.point[root.dim] - node[root.dim]) < distance:\n",
    "            if (root.left == nodes[len(nodes) - 1]):\n",
    "                temp_dis, temp_point = nearest_neighbour(root.right, node)\n",
    "            else:\n",
    "                temp_dis, temp_point = nearest_neighbour(root.left, node)\n",
    "            if temp_dis < distance:\n",
    "                distance = temp_dis\n",
    "                final_point = temp_point\n",
    "        i -= 1\n",
    "    return distance, final_point"
   ]
  },
  {
   "cell_type": "code",
   "execution_count": 169,
   "metadata": {},
   "outputs": [
    {
     "data": {
      "text/plain": [
       "(1.8027756377319946, <__main__.KD_Node at 0x7fa61c0289e8>)"
      ]
     },
     "execution_count": 169,
     "metadata": {},
     "output_type": "execute_result"
    }
   ],
   "source": [
    "nearest_neighbour(kd.root, [3, 4.5])"
   ]
  },
  {
   "cell_type": "code",
   "execution_count": 207,
   "metadata": {},
   "outputs": [
    {
     "name": "stdout",
     "output_type": "stream",
     "text": [
      "Distance =  2.692582403567252 \n",
      "kN_Point =  [4 7]\n",
      "Distance =  2.0615528128088303 \n",
      "kN_Point =  [5 4]\n",
      "Distance =  1.8027756377319946 \n",
      "kN_Point =  [2 3]\n",
      "[2 3]\n",
      "[0.59611687 0.01513444 0.01185983]\n",
      "[0.38323696 0.62628713 0.2556212 ]\n",
      "[0.3070893  0.89402261 0.22716096]\n",
      "[0.0437612  0.65950089 0.19557503]\n",
      "[0.44856427 0.80008483 0.5858697 ]\n",
      "[0.25999713 0.61400155 0.37587771]\n",
      "[0.83671964 0.79485535 0.70678786]\n",
      "[0.92265523 0.08156015 0.5699779 ]\n",
      "[0.8464582  0.45193156 0.09022666]\n",
      "[0.97785555 0.49459712 0.77342025]\n"
     ]
    },
    {
     "ename": "AttributeError",
     "evalue": "'NoneType' object has no attribute 'left'",
     "output_type": "error",
     "traceback": [
      "\u001b[0;31m---------------------------------------------------------------------------\u001b[0m",
      "\u001b[0;31mAttributeError\u001b[0m                            Traceback (most recent call last)",
      "\u001b[0;32m<ipython-input-207-4999c70ecbe1>\u001b[0m in \u001b[0;36m<module>\u001b[0;34m()\u001b[0m\n\u001b[1;32m     14\u001b[0m \u001b[0mkd2\u001b[0m \u001b[0;34m=\u001b[0m \u001b[0mKD_tree\u001b[0m\u001b[0;34m(\u001b[0m\u001b[0mnp\u001b[0m\u001b[0;34m.\u001b[0m\u001b[0marray\u001b[0m\u001b[0;34m(\u001b[0m\u001b[0mrandom_points\u001b[0m\u001b[0;34m(\u001b[0m\u001b[0;36m3\u001b[0m\u001b[0;34m,\u001b[0m \u001b[0mN\u001b[0m\u001b[0;34m)\u001b[0m\u001b[0;34m)\u001b[0m\u001b[0;34m)\u001b[0m           \u001b[0;31m# 构建包含四十万个3维空间样本点的kd树\u001b[0m\u001b[0;34m\u001b[0m\u001b[0m\n\u001b[1;32m     15\u001b[0m \u001b[0mpre_order\u001b[0m\u001b[0;34m(\u001b[0m\u001b[0mkd2\u001b[0m\u001b[0;34m.\u001b[0m\u001b[0mroot\u001b[0m\u001b[0;34m)\u001b[0m\u001b[0;34m\u001b[0m\u001b[0m\n\u001b[0;32m---> 16\u001b[0;31m \u001b[0mdistance\u001b[0m\u001b[0;34m,\u001b[0m \u001b[0mret2\u001b[0m \u001b[0;34m=\u001b[0m \u001b[0mnearest_neighbour\u001b[0m\u001b[0;34m(\u001b[0m\u001b[0mkd2\u001b[0m\u001b[0;34m.\u001b[0m\u001b[0mroot\u001b[0m\u001b[0;34m,\u001b[0m \u001b[0;34m[\u001b[0m\u001b[0;36m0.1\u001b[0m\u001b[0;34m,\u001b[0m\u001b[0;36m0.5\u001b[0m\u001b[0;34m,\u001b[0m\u001b[0;36m0.8\u001b[0m\u001b[0;34m]\u001b[0m\u001b[0;34m)\u001b[0m     \u001b[0;31m# 四十万个样本点中寻找离目标最近的点\u001b[0m\u001b[0;34m\u001b[0m\u001b[0m\n\u001b[0m\u001b[1;32m     17\u001b[0m \u001b[0mt1\u001b[0m \u001b[0;34m=\u001b[0m \u001b[0mclock\u001b[0m\u001b[0;34m(\u001b[0m\u001b[0;34m)\u001b[0m\u001b[0;34m\u001b[0m\u001b[0m\n\u001b[1;32m     18\u001b[0m \u001b[0mprint\u001b[0m\u001b[0;34m(\u001b[0m\u001b[0;34m\"time: \"\u001b[0m\u001b[0;34m,\u001b[0m\u001b[0mt1\u001b[0m\u001b[0;34m-\u001b[0m\u001b[0mt0\u001b[0m\u001b[0;34m,\u001b[0m \u001b[0;34m\"s\"\u001b[0m\u001b[0;34m)\u001b[0m\u001b[0;34m\u001b[0m\u001b[0m\n",
      "\u001b[0;32m<ipython-input-202-0f350cae8975>\u001b[0m in \u001b[0;36mnearest_neighbour\u001b[0;34m(root, node)\u001b[0m\n\u001b[1;32m      4\u001b[0m     \u001b[0mnodes\u001b[0m \u001b[0;34m=\u001b[0m \u001b[0;34m[\u001b[0m\u001b[0;34m]\u001b[0m\u001b[0;34m\u001b[0m\u001b[0m\n\u001b[1;32m      5\u001b[0m     \u001b[0;31m#沿着Kd树一直向下搜寻最近点， 直至达到叶节点\u001b[0m\u001b[0;34m\u001b[0m\u001b[0;34m\u001b[0m\u001b[0m\n\u001b[0;32m----> 6\u001b[0;31m     \u001b[0;32mwhile\u001b[0m \u001b[0;34m(\u001b[0m\u001b[0;34m(\u001b[0m\u001b[0mroot\u001b[0m\u001b[0;34m.\u001b[0m\u001b[0mleft\u001b[0m \u001b[0;34m!=\u001b[0m \u001b[0;32mNone\u001b[0m\u001b[0;34m)\u001b[0m \u001b[0;34m|\u001b[0m \u001b[0;34m(\u001b[0m\u001b[0mroot\u001b[0m\u001b[0;34m.\u001b[0m\u001b[0mright\u001b[0m \u001b[0;34m!=\u001b[0m \u001b[0;32mNone\u001b[0m\u001b[0;34m)\u001b[0m\u001b[0;34m)\u001b[0m\u001b[0;34m:\u001b[0m\u001b[0;34m\u001b[0m\u001b[0m\n\u001b[0m\u001b[1;32m      7\u001b[0m         \u001b[0mnodes\u001b[0m\u001b[0;34m.\u001b[0m\u001b[0mappend\u001b[0m\u001b[0;34m(\u001b[0m\u001b[0mroot\u001b[0m\u001b[0;34m)\u001b[0m\u001b[0;34m\u001b[0m\u001b[0m\n\u001b[1;32m      8\u001b[0m         \u001b[0;32mif\u001b[0m \u001b[0mroot\u001b[0m\u001b[0;34m.\u001b[0m\u001b[0mpoint\u001b[0m\u001b[0;34m[\u001b[0m\u001b[0mroot\u001b[0m\u001b[0;34m.\u001b[0m\u001b[0mdim\u001b[0m\u001b[0;34m]\u001b[0m \u001b[0;34m>\u001b[0m \u001b[0mnode\u001b[0m\u001b[0;34m[\u001b[0m\u001b[0mroot\u001b[0m\u001b[0;34m.\u001b[0m\u001b[0mdim\u001b[0m\u001b[0;34m]\u001b[0m\u001b[0;34m:\u001b[0m\u001b[0;34m\u001b[0m\u001b[0m\n",
      "\u001b[0;31mAttributeError\u001b[0m: 'NoneType' object has no attribute 'left'"
     ]
    }
   ],
   "source": [
    "data = np.array([[2,3],[5,4],[9,6],[4,7],[8,1],[7,2]])\n",
    "kd = KD_tree(data)\n",
    "distance, ret = nearest_neighbour(kd.root, [3,4.5])\n",
    "print(ret.point)\n",
    "\n",
    "def random_point(k):\n",
    "    return [random() for _ in range(k)]\n",
    "\n",
    "def random_points(k, n):\n",
    "    return [random_point(k) for _ in range(n)]  \n",
    "\n",
    "N = 10\n",
    "t0 = clock()\n",
    "kd2 = KD_tree(np.array(random_points(3, N)))           # 构建包含四十万个3维空间样本点的kd树\n",
    "pre_order(kd2.root)\n",
    "distance, ret2 = nearest_neighbour(kd2.root, [0.1,0.5,0.8])     # 四十万个样本点中寻找离目标最近的点\n",
    "t1 = clock()\n",
    "print(\"time: \",t1-t0, \"s\")\n",
    "print(ret2)"
   ]
  }
 ],
 "metadata": {
  "kernelspec": {
   "display_name": "Python 3",
   "language": "python",
   "name": "python3"
  },
  "language_info": {
   "codemirror_mode": {
    "name": "ipython",
    "version": 3
   },
   "file_extension": ".py",
   "mimetype": "text/x-python",
   "name": "python",
   "nbconvert_exporter": "python",
   "pygments_lexer": "ipython3",
   "version": "3.6.5"
  }
 },
 "nbformat": 4,
 "nbformat_minor": 2
}
