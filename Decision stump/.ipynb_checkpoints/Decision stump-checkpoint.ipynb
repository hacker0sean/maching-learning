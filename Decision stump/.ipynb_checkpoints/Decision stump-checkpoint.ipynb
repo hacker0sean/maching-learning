{
 "cells": [
  {
   "cell_type": "markdown",
   "metadata": {},
   "source": [
    "#### one-dimensional"
   ]
  },
  {
   "cell_type": "code",
   "execution_count": 1,
   "metadata": {},
   "outputs": [],
   "source": [
    "import numpy as np\n",
    "import matplotlib.pyplot as plt\n",
    "%matplotlib inline\n",
    "import seaborn as sns\n",
    "import numpy.random"
   ]
  },
  {
   "cell_type": "code",
   "execution_count": 83,
   "metadata": {},
   "outputs": [],
   "source": [
    "def sign(x):\n",
    "    return np.where(x > 0, 1, -1)"
   ]
  },
  {
   "cell_type": "code",
   "execution_count": 39,
   "metadata": {},
   "outputs": [],
   "source": [
    "def flip(x):\n",
    "    s = np.where(np.random.uniform(low=0, high=1, size=x.shape[0]) > 0.2, 1, -1)\n",
    "    return x * s"
   ]
  },
  {
   "cell_type": "code",
   "execution_count": 4,
   "metadata": {},
   "outputs": [],
   "source": [
    "def generate(size=1):\n",
    "    x = np.random.uniform(low=-1, high=1, size=size)\n",
    "    y = flip(sign(x))\n",
    "    return x,y"
   ]
  },
  {
   "cell_type": "code",
   "execution_count": 5,
   "metadata": {},
   "outputs": [],
   "source": [
    "times = 5000\n",
    "size=20\n",
    "theta = np.empty(times)\n",
    "s = np.empty(times)"
   ]
  },
  {
   "cell_type": "code",
   "execution_count": 6,
   "metadata": {},
   "outputs": [],
   "source": [
    "def gettheta(x):\n",
    "    theta = np.zeros(len(x))\n",
    "    l1 = sorted(x)\n",
    "    for i in np.arange(len(x) - 1):\n",
    "        theta[i] = (l1[i] + l1[i+1]) / 2\n",
    "    theta[-1] = 1\n",
    "    return theta"
   ]
  },
  {
   "cell_type": "code",
   "execution_count": 41,
   "metadata": {},
   "outputs": [
    {
     "name": "stdout",
     "output_type": "stream",
     "text": [
      "0.17047 0.2552596919377363\n"
     ]
    },
    {
     "name": "stderr",
     "output_type": "stream",
     "text": [
      "/home/sean/anaconda3/lib/python3.6/site-packages/matplotlib/axes/_axes.py:6462: UserWarning: The 'normed' kwarg is deprecated, and has been replaced by the 'density' kwarg.\n",
      "  warnings.warn(\"The 'normed' kwarg is deprecated, and has been \"\n",
      "/home/sean/anaconda3/lib/python3.6/site-packages/matplotlib/axes/_axes.py:6462: UserWarning: The 'normed' kwarg is deprecated, and has been replaced by the 'density' kwarg.\n",
      "  warnings.warn(\"The 'normed' kwarg is deprecated, and has been \"\n"
     ]
    },
    {
     "data": {
      "text/plain": [
       "<matplotlib.axes._subplots.AxesSubplot at 0x7f4c7c4728d0>"
      ]
     },
     "execution_count": 41,
     "metadata": {},
     "output_type": "execute_result"
    },
    {
     "data": {
      "image/png": "[encoded data removed]",
      "text/plain": [
       "<Figure size 432x288 with 1 Axes>"
      ]
     },
     "metadata": {},
     "output_type": "display_data"
    }
   ],
   "source": [
    "Ein = np.empty(times)\n",
    "Eout = np.empty(times)\n",
    "for i in np.arange(times):\n",
    "    x, y = generate(size)\n",
    "    yhat = np.zeros(size)\n",
    "    mindiff = size\n",
    "    minyhat = y.copy()\n",
    "    mins = 0\n",
    "    for s in [1, -1]:\n",
    "        for theta in gettheta(x):\n",
    "            yhat = s*sign(x-theta)\n",
    "            diff = (yhat != y).sum()\n",
    "            if(mindiff > diff):\n",
    "                mindiff = diff\n",
    "                minyhat = yhat\n",
    "                mins = s\n",
    "                mintheta = theta\n",
    "    Ein[i] = mindiff / size\n",
    "    Eout[i] = 0.5 + 0.3 * mins * (abs(mintheta) - 1)\n",
    "print(Ein.mean(), Eout.mean())\n",
    "sns.distplot(Ein)\n",
    "sns.distplot(Eout)"
   ]
  },
  {
   "cell_type": "markdown",
   "metadata": {},
   "source": [
    "#### multi-dimensional"
   ]
  },
  {
   "cell_type": "code",
   "execution_count": 42,
   "metadata": {},
   "outputs": [],
   "source": [
    "import pandas as pd"
   ]
  },
  {
   "cell_type": "code",
   "execution_count": 53,
   "metadata": {},
   "outputs": [],
   "source": [
    "train = pd.read_csv(\"hw2_train.dat\",sep='\\s', header=None, engine='python')\n",
    "test = pd.read_csv(\"hw2_test.dat\", sep='\\s', header=None, engine='python')"
   ]
  },
  {
   "cell_type": "code",
   "execution_count": 106,
   "metadata": {},
   "outputs": [
    {
     "data": {
      "text/plain": [
       "(0.25, 3, 1.4609999999999999, -1)"
      ]
     },
     "execution_count": 106,
     "metadata": {},
     "output_type": "execute_result"
    }
   ],
   "source": [
    "length = train.shape[1] - 1\n",
    "ein_min = 1\n",
    "rows = train.shape[0]\n",
    "for i in np.arange(length):\n",
    "    x = train.iloc[:, i]\n",
    "    y = train.iloc[:, -1]\n",
    "    yhat = np.zeros(size)\n",
    "    mindiff = rows\n",
    "    for s in [1, -1]:\n",
    "        for theta in x:\n",
    "            yhat = s*sign(x-theta)\n",
    "            diff = (yhat != y).sum()\n",
    "            if(mindiff > diff):\n",
    "                mindiff = diff\n",
    "                mins = s\n",
    "                mintheta = theta\n",
    "    ein = mindiff / rows\n",
    "    if (ein < ein_min):\n",
    "        ein_min = ein\n",
    "        etheta = mintheta\n",
    "        es = mins\n",
    "        ei = i\n",
    "ein_min, ei, etheta, es"
   ]
  },
  {
   "cell_type": "code",
   "execution_count": 107,
   "metadata": {},
   "outputs": [],
   "source": [
    "x = test.iloc[:, ei]\n",
    "y = test.iloc[:, -1]"
   ]
  },
  {
   "cell_type": "code",
   "execution_count": 109,
   "metadata": {},
   "outputs": [
    {
     "data": {
      "text/plain": [
       "0.355"
      ]
     },
     "execution_count": 109,
     "metadata": {},
     "output_type": "execute_result"
    }
   ],
   "source": [
    "yhat = es * sign(x - etheta)\n",
    "eout = (yhat != y).sum() / test.shape[0]\n",
    "eout"
   ]
  }
 ],
 "metadata": {
  "kernelspec": {
   "display_name": "Python 3",
   "language": "python",
   "name": "python3"
  },
  "language_info": {
   "codemirror_mode": {
    "name": "ipython",
    "version": 3
   },
   "file_extension": ".py",
   "mimetype": "text/x-python",
   "name": "python",
   "nbconvert_exporter": "python",
   "pygments_lexer": "ipython3",
   "version": "3.6.5"
  }
 },
 "nbformat": 4,
 "nbformat_minor": 2
}
