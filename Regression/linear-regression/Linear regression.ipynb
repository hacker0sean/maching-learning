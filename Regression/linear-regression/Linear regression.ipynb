{
 "cells": [
  {
   "cell_type": "code",
   "execution_count": 5,
   "metadata": {},
   "outputs": [
    {
     "name": "stdout",
     "output_type": "stream",
     "text": [
      "0.0\n",
      "[0.5]\n"
     ]
    }
   ],
   "source": [
    "import numpy as np\n",
    "from sklearn.linear_model import LinearRegression\n",
    "x = np.array([[1], [2], [4], [0]])\n",
    "y = np.array([0.5,1, 2, 0])\n",
    "\n",
    "model = LinearRegression(fit_intercept=True)\n",
    "\n",
    "model.fit(x, y)\n",
    "print(model.intercept_)\n",
    "print(model.coef_)"
   ]
  },
  {
   "cell_type": "code",
   "execution_count": 7,
   "metadata": {},
   "outputs": [],
   "source": [
    "def loadDataSet(fileName):      #general function to parse tab -delimited floats\n",
    "    numFeat = len(open(fileName).readline().split('\\t')) - 1 #get number of fields \n",
    "    dataMat = []; labelMat = []\n",
    "    fr = open(fileName)\n",
    "    for line in fr.readlines():\n",
    "        lineArr =[]\n",
    "        curLine = line.strip().split('\\t')\n",
    "        for i in range(numFeat):\n",
    "            lineArr.append(float(curLine[i]))\n",
    "        dataMat.append(lineArr)\n",
    "        labelMat.append(float(curLine[-1]))\n",
    "    return dataMat,labelMat\n",
    "\n",
    "def standRegres(xArr,yArr):\n",
    "    xMat = np.mat(xArr)\n",
    "    yMat = np.mat(yArr).T\n",
    "    xTx = xMat.T*xMat\n",
    "    if np.linalg.det(xTx) == 0.0:\n",
    "        print(\"This matrix is singular, cannot do inverse\")\n",
    "        return\n",
    "    ws = xTx.I * (xMat.T*yMat)\n",
    "    return ws"
   ]
  },
  {
   "cell_type": "code",
   "execution_count": 9,
   "metadata": {},
   "outputs": [],
   "source": [
    "xArr, yArr = loadDataSet('ex0.txt')\n",
    "ws = standRegres(xArr, yArr)\n",
    "xMat = np.mat(xArr)\n",
    "yMat = np.mat(yArr)\n",
    "yHat = xMat * ws"
   ]
  },
  {
   "cell_type": "code",
   "execution_count": 14,
   "metadata": {},
   "outputs": [
    {
     "data": {
      "text/plain": [
       "array([[1.        , 0.98647356],\n",
       "       [0.98647356, 1.        ]])"
      ]
     },
     "execution_count": 14,
     "metadata": {},
     "output_type": "execute_result"
    }
   ],
   "source": [
    "np.corrcoef(yHat.T, yArr)"
   ]
  },
  {
   "cell_type": "code",
   "execution_count": 22,
   "metadata": {},
   "outputs": [],
   "source": [
    "def lwlr(testPoint,xArr,yArr,k=1.0):\n",
    "    xMat = np.mat(xArr); yMat = np.mat(yArr).T\n",
    "    m = np.shape(xMat)[0]\n",
    "    weights = np.mat(np.eye((m)))\n",
    "    for j in range(m):                      #next 2 lines create weights matrix\n",
    "        diffMat = testPoint - xMat[j,:]     #\n",
    "        weights[j,j] = np.exp(diffMat*diffMat.T/(-2.0*k**2))\n",
    "    xTx = xMat.T * (weights * xMat)\n",
    "    if np.linalg.det(xTx) == 0.0:\n",
    "        print(\"This matrix is singular, cannot do inverse\")\n",
    "        return\n",
    "    ws = xTx.I * (xMat.T * (weights * yMat))\n",
    "    return testPoint * ws"
   ]
  },
  {
   "cell_type": "code",
   "execution_count": 17,
   "metadata": {},
   "outputs": [],
   "source": [
    "def lwlrTest(testArr,xArr,yArr,k=1.0):  #loops over all the data points and applies lwlr to each one\n",
    "    m = np.shape(testArr)[0]\n",
    "    yHat = np.zeros(m)\n",
    "    for i in range(m):\n",
    "        yHat[i] = lwlr(testArr[i],xArr,yArr,k)\n",
    "    return yHat"
   ]
  },
  {
   "cell_type": "code",
   "execution_count": 40,
   "metadata": {},
   "outputs": [],
   "source": [
    "def rssError(yArr,yHatArr): \n",
    "    return ((yArr-yHatArr)**2).sum()"
   ]
  },
  {
   "cell_type": "code",
   "execution_count": 37,
   "metadata": {},
   "outputs": [],
   "source": [
    "abX, abY = loadDataSet('abalone.txt')\n",
    "yHat01 = lwlrTest(abX[0:99], abX[0:99], abY[0:99], 0.1)\n",
    "yHat1 = lwlrTest(abX[0:99], abX[0:99], abY[0:99], 1)\n",
    "yHat10 = lwlrTest(abX[0:99], abX[0:99], abY[0:99], 10)"
   ]
  },
  {
   "cell_type": "code",
   "execution_count": 42,
   "metadata": {},
   "outputs": [
    {
     "data": {
      "text/plain": [
       "56.82022782357711"
      ]
     },
     "execution_count": 42,
     "metadata": {},
     "output_type": "execute_result"
    }
   ],
   "source": [
    "rssError(abY[0:99], yHat01.T)"
   ]
  },
  {
   "cell_type": "code",
   "execution_count": 44,
   "metadata": {},
   "outputs": [
    {
     "data": {
      "text/plain": [
       "429.89056187017275"
      ]
     },
     "execution_count": 44,
     "metadata": {},
     "output_type": "execute_result"
    }
   ],
   "source": [
    "rssError(abY[0:99], yHat1.T)"
   ]
  },
  {
   "cell_type": "code",
   "execution_count": 46,
   "metadata": {},
   "outputs": [
    {
     "data": {
      "text/plain": [
       "549.1181708825052"
      ]
     },
     "execution_count": 46,
     "metadata": {},
     "output_type": "execute_result"
    }
   ],
   "source": [
    "rssError(abY[0:99], yHat10.T)"
   ]
  },
  {
   "cell_type": "code",
   "execution_count": 54,
   "metadata": {},
   "outputs": [],
   "source": [
    "def ridgeRegres(xMat,yMat,lam=0.2):\n",
    "    xTx = xMat.T*xMat\n",
    "    denom = xTx + np.eye(np.shape(xMat)[1])*lam\n",
    "    if np.linalg.det(denom) == 0.0:\n",
    "        print(\"This matrix is singular, cannot do inverse\")\n",
    "        return\n",
    "    ws = denom.I * (xMat.T*yMat)\n",
    "    return ws\n",
    "    \n",
    "def ridgeTest(xArr, yArr):\n",
    "    xMat = np.mat(xArr) \n",
    "    yMat = np.mat(yArr).T\n",
    "    yMean = np.mean(yMat,0)\n",
    "    yMat = yMat - yMean     #to eliminate X0 take mean off of Y\n",
    "    #regularize X's\n",
    "    xMeans = np.mean(xMat,0)   #calc mean then subtract it off\n",
    "    xVar = np.var(xMat,0)      #calc variance of Xi then divide by it\n",
    "    xMat = (xMat - xMeans)/xVar\n",
    "    numTestPts = 30\n",
    "    wMat = np.zeros((numTestPts,np.shape(xMat)[1]))\n",
    "    for i in range(numTestPts):\n",
    "        ws = ridgeRegres(xMat,yMat, np.exp(i-10))\n",
    "        wMat[i,:]=ws.T\n",
    "    return wMat"
   ]
  },
  {
   "cell_type": "code",
   "execution_count": 95,
   "metadata": {},
   "outputs": [],
   "source": [
    "def stageWise(xArr,yArr,eps=0.01,numIt=100):\n",
    "    xMat = np.mat(xArr)\n",
    "    yMat = np.mat(yArr).T\n",
    "    yMean = np.mean(yMat,0)\n",
    "    yMat = yMat - yMean     #can also regularize ys but will get smaller coef\n",
    "    xMeans = np.mean(xMat,0)   #calc mean then subtract it off\n",
    "    xVar = np.var(xMat,0)      #calc variance of Xi then divide by it\n",
    "    xMat = (xMat - xMeans)/xVar\n",
    "    m,n = np.shape(xMat)\n",
    "    returnMat = np.zeros((numIt,n)) #testing code remove\n",
    "    ws = np.zeros((n,1))\n",
    "    wsTest = ws.copy()\n",
    "    wsMax = ws.copy()\n",
    "    for i in range(numIt):\n",
    "        #print (ws.T)\n",
    "        lowestError = np.inf; \n",
    "        for j in range(n):\n",
    "            for sign in [-1,1]:\n",
    "                wsTest = ws.copy()\n",
    "                wsTest[j] += eps * sign\n",
    "                yTest = xMat*wsTest\n",
    "                rssE = rssError(yMat.A,yTest.A)\n",
    "                if (rssE < lowestError):\n",
    "                    lowestError = rssE\n",
    "                    wsMax = wsTest\n",
    "        ws = wsMax.copy()\n",
    "        returnMat[i,:] = ws.T\n",
    "    return returnMat"
   ]
  },
  {
   "cell_type": "code",
   "execution_count": 98,
   "metadata": {},
   "outputs": [],
   "source": [
    "xArr, yArr = loadDataSet('abalone.txt')"
   ]
  },
  {
   "cell_type": "code",
   "execution_count": 99,
   "metadata": {},
   "outputs": [
    {
     "name": "stdout",
     "output_type": "stream",
     "text": [
      "[[0. 0. 0. 0. 0. 0. 0. 0.]]\n",
      "[[0.   0.   0.   0.01 0.   0.   0.   0.  ]]\n",
      "[[0.   0.   0.   0.02 0.   0.   0.   0.  ]]\n",
      "[[0.   0.   0.   0.03 0.   0.   0.   0.  ]]\n",
      "[[0.   0.   0.   0.04 0.   0.   0.   0.  ]]\n",
      "[[0.   0.   0.   0.05 0.   0.   0.   0.  ]]\n",
      "[[0.   0.   0.   0.06 0.   0.   0.   0.  ]]\n",
      "[[0.   0.   0.01 0.06 0.   0.   0.   0.  ]]\n",
      "[[0.   0.   0.01 0.06 0.   0.   0.   0.01]]\n",
      "[[0.   0.   0.01 0.06 0.   0.   0.   0.02]]\n",
      "[[0.   0.   0.01 0.06 0.   0.   0.   0.03]]\n",
      "[[0.   0.   0.01 0.06 0.   0.   0.   0.04]]\n",
      "[[0.   0.   0.01 0.06 0.   0.   0.   0.05]]\n",
      "[[0.   0.   0.01 0.06 0.   0.   0.   0.06]]\n",
      "[[0.   0.   0.01 0.06 0.   0.   0.   0.07]]\n",
      "[[0.   0.   0.01 0.06 0.   0.   0.   0.08]]\n",
      "[[0.   0.   0.01 0.05 0.   0.   0.   0.08]]\n",
      "[[0.   0.   0.01 0.05 0.   0.   0.   0.09]]\n",
      "[[0.   0.   0.01 0.05 0.   0.   0.   0.1 ]]\n",
      "[[0.   0.   0.01 0.05 0.   0.   0.   0.11]]\n",
      "[[ 0.    0.    0.01  0.05  0.   -0.01  0.    0.11]]\n",
      "[[ 0.    0.    0.01  0.05  0.   -0.02  0.    0.11]]\n",
      "[[ 0.    0.    0.01  0.05  0.   -0.02  0.    0.12]]\n",
      "[[ 0.    0.    0.01  0.05  0.   -0.03  0.    0.12]]\n",
      "[[ 0.    0.    0.01  0.05  0.   -0.03  0.    0.13]]\n",
      "[[ 0.    0.    0.01  0.05  0.   -0.04  0.    0.13]]\n",
      "[[ 0.    0.    0.01  0.05  0.   -0.05  0.    0.13]]\n",
      "[[ 0.    0.    0.01  0.05  0.   -0.05  0.    0.14]]\n",
      "[[ 0.    0.    0.01  0.05  0.   -0.06  0.    0.14]]\n",
      "[[ 0.    0.    0.01  0.05  0.   -0.07  0.    0.14]]\n",
      "[[ 0.    0.    0.01  0.05  0.   -0.07  0.    0.15]]\n",
      "[[ 0.    0.    0.01  0.05  0.   -0.08  0.    0.15]]\n",
      "[[ 0.    0.    0.01  0.05  0.   -0.08  0.    0.16]]\n",
      "[[ 0.    0.    0.01  0.05  0.   -0.09  0.    0.16]]\n",
      "[[ 0.    0.    0.01  0.05  0.   -0.1   0.    0.16]]\n",
      "[[ 0.    0.    0.01  0.05  0.   -0.1   0.    0.17]]\n",
      "[[ 0.    0.    0.01  0.05  0.   -0.11  0.    0.17]]\n",
      "[[ 0.    0.    0.01  0.05  0.   -0.12  0.    0.17]]\n",
      "[[ 0.    0.    0.01  0.05  0.   -0.12  0.    0.18]]\n",
      "[[ 0.    0.    0.01  0.05  0.   -0.13  0.    0.18]]\n",
      "[[ 0.    0.    0.01  0.05  0.   -0.13  0.    0.19]]\n",
      "[[ 0.    0.    0.01  0.05  0.   -0.14  0.    0.19]]\n",
      "[[ 0.    0.    0.01  0.05  0.   -0.15  0.    0.19]]\n",
      "[[ 0.    0.    0.01  0.05  0.   -0.15  0.    0.2 ]]\n",
      "[[ 0.    0.    0.01  0.05  0.   -0.16  0.    0.2 ]]\n",
      "[[ 0.    0.    0.01  0.05  0.   -0.16  0.    0.21]]\n",
      "[[ 0.    0.    0.01  0.05  0.   -0.17  0.    0.21]]\n",
      "[[ 0.    0.    0.01  0.05  0.   -0.18  0.    0.21]]\n",
      "[[ 0.    0.    0.01  0.05  0.   -0.18  0.    0.22]]\n",
      "[[ 0.    0.    0.01  0.05  0.   -0.19  0.    0.22]]\n",
      "[[ 0.    0.    0.01  0.05  0.   -0.2   0.    0.22]]\n",
      "[[ 0.    0.    0.01  0.05  0.   -0.2   0.    0.23]]\n",
      "[[ 0.    0.    0.01  0.05  0.   -0.21  0.    0.23]]\n",
      "[[ 0.    0.    0.01  0.05  0.   -0.21  0.    0.24]]\n",
      "[[ 0.    0.    0.01  0.05  0.   -0.22  0.    0.24]]\n",
      "[[ 0.    0.    0.01  0.05  0.   -0.23  0.    0.24]]\n",
      "[[ 0.    0.    0.01  0.05  0.   -0.23  0.    0.25]]\n",
      "[[ 0.    0.    0.01  0.05  0.   -0.24  0.    0.25]]\n",
      "[[ 0.    0.    0.01  0.05  0.   -0.25  0.    0.25]]\n",
      "[[ 0.    0.    0.02  0.05  0.   -0.25  0.    0.25]]\n",
      "[[ 0.    0.    0.02  0.04  0.   -0.25  0.    0.25]]\n",
      "[[ 0.    0.    0.03  0.04  0.   -0.25  0.    0.25]]\n",
      "[[ 0.    0.    0.03  0.04  0.   -0.25  0.    0.26]]\n",
      "[[ 0.    0.    0.03  0.04  0.   -0.26  0.    0.26]]\n",
      "[[ 0.    0.    0.03  0.04  0.   -0.26  0.    0.27]]\n",
      "[[ 0.    0.    0.03  0.04  0.   -0.27  0.    0.27]]\n",
      "[[ 0.    0.    0.03  0.04  0.   -0.28  0.    0.27]]\n",
      "[[ 0.    0.    0.03  0.04  0.   -0.28  0.    0.28]]\n",
      "[[ 0.    0.    0.03  0.04  0.   -0.29  0.    0.28]]\n",
      "[[ 0.    0.    0.03  0.04  0.   -0.29  0.    0.29]]\n",
      "[[ 0.    0.    0.03  0.04  0.   -0.3   0.    0.29]]\n",
      "[[ 0.    0.    0.03  0.04  0.   -0.31  0.    0.29]]\n",
      "[[ 0.    0.    0.04  0.04  0.   -0.31  0.    0.29]]\n",
      "[[ 0.    0.    0.04  0.04  0.   -0.32  0.    0.29]]\n",
      "[[ 0.    0.    0.04  0.04  0.   -0.33  0.    0.29]]\n",
      "[[ 0.    0.    0.04  0.04  0.   -0.33  0.    0.3 ]]\n",
      "[[ 0.    0.    0.04  0.04  0.   -0.34  0.    0.3 ]]\n",
      "[[ 0.    0.    0.04  0.04  0.   -0.35  0.    0.3 ]]\n",
      "[[ 0.    0.    0.05  0.04  0.   -0.35  0.    0.3 ]]\n",
      "[[ 0.    0.    0.05  0.04  0.   -0.36  0.    0.3 ]]\n",
      "[[ 0.    0.    0.05  0.04  0.   -0.37  0.    0.3 ]]\n",
      "[[ 0.    0.    0.05  0.04  0.   -0.37  0.    0.31]]\n",
      "[[ 0.    0.    0.05  0.04  0.   -0.38  0.    0.31]]\n",
      "[[ 0.    0.    0.05  0.04  0.   -0.39  0.    0.31]]\n",
      "[[ 0.    0.    0.06  0.04  0.   -0.39  0.    0.31]]\n",
      "[[ 0.    0.    0.06  0.04  0.   -0.4   0.    0.31]]\n",
      "[[ 0.    0.    0.06  0.04  0.   -0.41  0.    0.31]]\n",
      "[[ 0.    0.    0.06  0.04  0.   -0.41  0.    0.32]]\n",
      "[[ 0.    0.    0.06  0.04  0.   -0.42  0.    0.32]]\n",
      "[[ 0.    0.    0.06  0.04  0.   -0.42  0.    0.33]]\n",
      "[[ 0.    0.    0.06  0.04  0.   -0.43  0.    0.33]]\n",
      "[[ 0.    0.    0.06  0.04  0.   -0.44  0.    0.33]]\n",
      "[[ 0.    0.    0.06  0.04  0.   -0.44  0.    0.34]]\n",
      "[[ 0.    0.    0.06  0.04  0.   -0.45  0.    0.34]]\n",
      "[[ 0.    0.    0.06  0.04  0.   -0.46  0.    0.34]]\n",
      "[[ 0.    0.    0.07  0.04  0.   -0.46  0.    0.34]]\n",
      "[[ 0.    0.    0.07  0.03  0.   -0.46  0.    0.34]]\n",
      "[[ 0.    0.    0.08  0.03  0.   -0.46  0.    0.34]]\n",
      "[[ 0.    0.    0.08  0.03  0.   -0.46  0.    0.35]]\n",
      "[[ 0.    0.    0.08  0.03  0.   -0.47  0.    0.35]]\n"
     ]
    },
    {
     "data": {
      "text/plain": [
       "array([[ 0.  ,  0.  ,  0.  ,  0.01,  0.  ,  0.  ,  0.  ,  0.  ],\n",
       "       [ 0.  ,  0.  ,  0.  ,  0.02,  0.  ,  0.  ,  0.  ,  0.  ],\n",
       "       [ 0.  ,  0.  ,  0.  ,  0.03,  0.  ,  0.  ,  0.  ,  0.  ],\n",
       "       [ 0.  ,  0.  ,  0.  ,  0.04,  0.  ,  0.  ,  0.  ,  0.  ],\n",
       "       [ 0.  ,  0.  ,  0.  ,  0.05,  0.  ,  0.  ,  0.  ,  0.  ],\n",
       "       [ 0.  ,  0.  ,  0.  ,  0.06,  0.  ,  0.  ,  0.  ,  0.  ],\n",
       "       [ 0.  ,  0.  ,  0.01,  0.06,  0.  ,  0.  ,  0.  ,  0.  ],\n",
       "       [ 0.  ,  0.  ,  0.01,  0.06,  0.  ,  0.  ,  0.  ,  0.01],\n",
       "       [ 0.  ,  0.  ,  0.01,  0.06,  0.  ,  0.  ,  0.  ,  0.02],\n",
       "       [ 0.  ,  0.  ,  0.01,  0.06,  0.  ,  0.  ,  0.  ,  0.03],\n",
       "       [ 0.  ,  0.  ,  0.01,  0.06,  0.  ,  0.  ,  0.  ,  0.04],\n",
       "       [ 0.  ,  0.  ,  0.01,  0.06,  0.  ,  0.  ,  0.  ,  0.05],\n",
       "       [ 0.  ,  0.  ,  0.01,  0.06,  0.  ,  0.  ,  0.  ,  0.06],\n",
       "       [ 0.  ,  0.  ,  0.01,  0.06,  0.  ,  0.  ,  0.  ,  0.07],\n",
       "       [ 0.  ,  0.  ,  0.01,  0.06,  0.  ,  0.  ,  0.  ,  0.08],\n",
       "       [ 0.  ,  0.  ,  0.01,  0.05,  0.  ,  0.  ,  0.  ,  0.08],\n",
       "       [ 0.  ,  0.  ,  0.01,  0.05,  0.  ,  0.  ,  0.  ,  0.09],\n",
       "       [ 0.  ,  0.  ,  0.01,  0.05,  0.  ,  0.  ,  0.  ,  0.1 ],\n",
       "       [ 0.  ,  0.  ,  0.01,  0.05,  0.  ,  0.  ,  0.  ,  0.11],\n",
       "       [ 0.  ,  0.  ,  0.01,  0.05,  0.  , -0.01,  0.  ,  0.11],\n",
       "       [ 0.  ,  0.  ,  0.01,  0.05,  0.  , -0.02,  0.  ,  0.11],\n",
       "       [ 0.  ,  0.  ,  0.01,  0.05,  0.  , -0.02,  0.  ,  0.12],\n",
       "       [ 0.  ,  0.  ,  0.01,  0.05,  0.  , -0.03,  0.  ,  0.12],\n",
       "       [ 0.  ,  0.  ,  0.01,  0.05,  0.  , -0.03,  0.  ,  0.13],\n",
       "       [ 0.  ,  0.  ,  0.01,  0.05,  0.  , -0.04,  0.  ,  0.13],\n",
       "       [ 0.  ,  0.  ,  0.01,  0.05,  0.  , -0.05,  0.  ,  0.13],\n",
       "       [ 0.  ,  0.  ,  0.01,  0.05,  0.  , -0.05,  0.  ,  0.14],\n",
       "       [ 0.  ,  0.  ,  0.01,  0.05,  0.  , -0.06,  0.  ,  0.14],\n",
       "       [ 0.  ,  0.  ,  0.01,  0.05,  0.  , -0.07,  0.  ,  0.14],\n",
       "       [ 0.  ,  0.  ,  0.01,  0.05,  0.  , -0.07,  0.  ,  0.15],\n",
       "       [ 0.  ,  0.  ,  0.01,  0.05,  0.  , -0.08,  0.  ,  0.15],\n",
       "       [ 0.  ,  0.  ,  0.01,  0.05,  0.  , -0.08,  0.  ,  0.16],\n",
       "       [ 0.  ,  0.  ,  0.01,  0.05,  0.  , -0.09,  0.  ,  0.16],\n",
       "       [ 0.  ,  0.  ,  0.01,  0.05,  0.  , -0.1 ,  0.  ,  0.16],\n",
       "       [ 0.  ,  0.  ,  0.01,  0.05,  0.  , -0.1 ,  0.  ,  0.17],\n",
       "       [ 0.  ,  0.  ,  0.01,  0.05,  0.  , -0.11,  0.  ,  0.17],\n",
       "       [ 0.  ,  0.  ,  0.01,  0.05,  0.  , -0.12,  0.  ,  0.17],\n",
       "       [ 0.  ,  0.  ,  0.01,  0.05,  0.  , -0.12,  0.  ,  0.18],\n",
       "       [ 0.  ,  0.  ,  0.01,  0.05,  0.  , -0.13,  0.  ,  0.18],\n",
       "       [ 0.  ,  0.  ,  0.01,  0.05,  0.  , -0.13,  0.  ,  0.19],\n",
       "       [ 0.  ,  0.  ,  0.01,  0.05,  0.  , -0.14,  0.  ,  0.19],\n",
       "       [ 0.  ,  0.  ,  0.01,  0.05,  0.  , -0.15,  0.  ,  0.19],\n",
       "       [ 0.  ,  0.  ,  0.01,  0.05,  0.  , -0.15,  0.  ,  0.2 ],\n",
       "       [ 0.  ,  0.  ,  0.01,  0.05,  0.  , -0.16,  0.  ,  0.2 ],\n",
       "       [ 0.  ,  0.  ,  0.01,  0.05,  0.  , -0.16,  0.  ,  0.21],\n",
       "       [ 0.  ,  0.  ,  0.01,  0.05,  0.  , -0.17,  0.  ,  0.21],\n",
       "       [ 0.  ,  0.  ,  0.01,  0.05,  0.  , -0.18,  0.  ,  0.21],\n",
       "       [ 0.  ,  0.  ,  0.01,  0.05,  0.  , -0.18,  0.  ,  0.22],\n",
       "       [ 0.  ,  0.  ,  0.01,  0.05,  0.  , -0.19,  0.  ,  0.22],\n",
       "       [ 0.  ,  0.  ,  0.01,  0.05,  0.  , -0.2 ,  0.  ,  0.22],\n",
       "       [ 0.  ,  0.  ,  0.01,  0.05,  0.  , -0.2 ,  0.  ,  0.23],\n",
       "       [ 0.  ,  0.  ,  0.01,  0.05,  0.  , -0.21,  0.  ,  0.23],\n",
       "       [ 0.  ,  0.  ,  0.01,  0.05,  0.  , -0.21,  0.  ,  0.24],\n",
       "       [ 0.  ,  0.  ,  0.01,  0.05,  0.  , -0.22,  0.  ,  0.24],\n",
       "       [ 0.  ,  0.  ,  0.01,  0.05,  0.  , -0.23,  0.  ,  0.24],\n",
       "       [ 0.  ,  0.  ,  0.01,  0.05,  0.  , -0.23,  0.  ,  0.25],\n",
       "       [ 0.  ,  0.  ,  0.01,  0.05,  0.  , -0.24,  0.  ,  0.25],\n",
       "       [ 0.  ,  0.  ,  0.01,  0.05,  0.  , -0.25,  0.  ,  0.25],\n",
       "       [ 0.  ,  0.  ,  0.02,  0.05,  0.  , -0.25,  0.  ,  0.25],\n",
       "       [ 0.  ,  0.  ,  0.02,  0.04,  0.  , -0.25,  0.  ,  0.25],\n",
       "       [ 0.  ,  0.  ,  0.03,  0.04,  0.  , -0.25,  0.  ,  0.25],\n",
       "       [ 0.  ,  0.  ,  0.03,  0.04,  0.  , -0.25,  0.  ,  0.26],\n",
       "       [ 0.  ,  0.  ,  0.03,  0.04,  0.  , -0.26,  0.  ,  0.26],\n",
       "       [ 0.  ,  0.  ,  0.03,  0.04,  0.  , -0.26,  0.  ,  0.27],\n",
       "       [ 0.  ,  0.  ,  0.03,  0.04,  0.  , -0.27,  0.  ,  0.27],\n",
       "       [ 0.  ,  0.  ,  0.03,  0.04,  0.  , -0.28,  0.  ,  0.27],\n",
       "       [ 0.  ,  0.  ,  0.03,  0.04,  0.  , -0.28,  0.  ,  0.28],\n",
       "       [ 0.  ,  0.  ,  0.03,  0.04,  0.  , -0.29,  0.  ,  0.28],\n",
       "       [ 0.  ,  0.  ,  0.03,  0.04,  0.  , -0.29,  0.  ,  0.29],\n",
       "       [ 0.  ,  0.  ,  0.03,  0.04,  0.  , -0.3 ,  0.  ,  0.29],\n",
       "       [ 0.  ,  0.  ,  0.03,  0.04,  0.  , -0.31,  0.  ,  0.29],\n",
       "       [ 0.  ,  0.  ,  0.04,  0.04,  0.  , -0.31,  0.  ,  0.29],\n",
       "       [ 0.  ,  0.  ,  0.04,  0.04,  0.  , -0.32,  0.  ,  0.29],\n",
       "       [ 0.  ,  0.  ,  0.04,  0.04,  0.  , -0.33,  0.  ,  0.29],\n",
       "       [ 0.  ,  0.  ,  0.04,  0.04,  0.  , -0.33,  0.  ,  0.3 ],\n",
       "       [ 0.  ,  0.  ,  0.04,  0.04,  0.  , -0.34,  0.  ,  0.3 ],\n",
       "       [ 0.  ,  0.  ,  0.04,  0.04,  0.  , -0.35,  0.  ,  0.3 ],\n",
       "       [ 0.  ,  0.  ,  0.05,  0.04,  0.  , -0.35,  0.  ,  0.3 ],\n",
       "       [ 0.  ,  0.  ,  0.05,  0.04,  0.  , -0.36,  0.  ,  0.3 ],\n",
       "       [ 0.  ,  0.  ,  0.05,  0.04,  0.  , -0.37,  0.  ,  0.3 ],\n",
       "       [ 0.  ,  0.  ,  0.05,  0.04,  0.  , -0.37,  0.  ,  0.31],\n",
       "       [ 0.  ,  0.  ,  0.05,  0.04,  0.  , -0.38,  0.  ,  0.31],\n",
       "       [ 0.  ,  0.  ,  0.05,  0.04,  0.  , -0.39,  0.  ,  0.31],\n",
       "       [ 0.  ,  0.  ,  0.06,  0.04,  0.  , -0.39,  0.  ,  0.31],\n",
       "       [ 0.  ,  0.  ,  0.06,  0.04,  0.  , -0.4 ,  0.  ,  0.31],\n",
       "       [ 0.  ,  0.  ,  0.06,  0.04,  0.  , -0.41,  0.  ,  0.31],\n",
       "       [ 0.  ,  0.  ,  0.06,  0.04,  0.  , -0.41,  0.  ,  0.32],\n",
       "       [ 0.  ,  0.  ,  0.06,  0.04,  0.  , -0.42,  0.  ,  0.32],\n",
       "       [ 0.  ,  0.  ,  0.06,  0.04,  0.  , -0.42,  0.  ,  0.33],\n",
       "       [ 0.  ,  0.  ,  0.06,  0.04,  0.  , -0.43,  0.  ,  0.33],\n",
       "       [ 0.  ,  0.  ,  0.06,  0.04,  0.  , -0.44,  0.  ,  0.33],\n",
       "       [ 0.  ,  0.  ,  0.06,  0.04,  0.  , -0.44,  0.  ,  0.34],\n",
       "       [ 0.  ,  0.  ,  0.06,  0.04,  0.  , -0.45,  0.  ,  0.34],\n",
       "       [ 0.  ,  0.  ,  0.06,  0.04,  0.  , -0.46,  0.  ,  0.34],\n",
       "       [ 0.  ,  0.  ,  0.07,  0.04,  0.  , -0.46,  0.  ,  0.34],\n",
       "       [ 0.  ,  0.  ,  0.07,  0.03,  0.  , -0.46,  0.  ,  0.34],\n",
       "       [ 0.  ,  0.  ,  0.08,  0.03,  0.  , -0.46,  0.  ,  0.34],\n",
       "       [ 0.  ,  0.  ,  0.08,  0.03,  0.  , -0.46,  0.  ,  0.35],\n",
       "       [ 0.  ,  0.  ,  0.08,  0.03,  0.  , -0.47,  0.  ,  0.35],\n",
       "       [ 0.  ,  0.  ,  0.08,  0.03,  0.  , -0.47,  0.  ,  0.36]])"
      ]
     },
     "execution_count": 99,
     "metadata": {},
     "output_type": "execute_result"
    }
   ],
   "source": [
    "stageWise(xArr,yArr,eps=0.01,numIt=100)"
   ]
  }
 ],
 "metadata": {
  "kernelspec": {
   "display_name": "Python 3",
   "language": "python",
   "name": "python3"
  },
  "language_info": {
   "codemirror_mode": {
    "name": "ipython",
    "version": 3
   },
   "file_extension": ".py",
   "mimetype": "text/x-python",
   "name": "python",
   "nbconvert_exporter": "python",
   "pygments_lexer": "ipython3",
   "version": "3.6.5"
  }
 },
 "nbformat": 4,
 "nbformat_minor": 2
}
