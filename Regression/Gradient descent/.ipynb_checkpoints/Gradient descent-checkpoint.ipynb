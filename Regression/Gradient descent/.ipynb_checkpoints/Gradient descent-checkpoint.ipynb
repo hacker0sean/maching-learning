{
 "cells": [
  {
   "cell_type": "markdown",
   "metadata": {},
   "source": [
    "![image.png](https://img-blog.csdn.net/20160409091854511?watermark/2/text/aHR0cDovL2Jsb2cuY3Nkbi5uZXQv/font/5a6L5L2T/fontsize/400/fill/I0JBQkFCMA==/dissolve/70/gravity/Center)"
   ]
  },
  {
   "cell_type": "markdown",
   "metadata": {},
   "source": [
    "![image.png](https://img-blog.csdn.net/20160409092148112?watermark/2/text/aHR0cDovL2Jsb2cuY3Nkbi5uZXQv/font/5a6L5L2T/fontsize/400/fill/I0JBQkFCMA==/dissolve/70/gravity/Center)"
   ]
  },
  {
   "cell_type": "code",
   "execution_count": 1,
   "metadata": {},
   "outputs": [],
   "source": [
    "import numpy as np\n",
    "from numpy.linalg import inv\n"
   ]
  },
  {
   "cell_type": "code",
   "execution_count": 2,
   "metadata": {},
   "outputs": [],
   "source": [
    "def gradient(u, v, eta):\n",
    "    updata_u = eta * (np.exp(u) + v * np.exp(v*u) + 2*u - 2*v - 3)\n",
    "    updata_v = eta * (2 * np.exp(2*v) + u*np.exp(u*v) - 2*u + 4*v - 2)\n",
    "    return  updata_u, updata_v"
   ]
  },
  {
   "cell_type": "code",
   "execution_count": 3,
   "metadata": {},
   "outputs": [
    {
     "data": {
      "text/plain": [
       "2.8250003566832635"
      ]
     },
     "execution_count": 3,
     "metadata": {},
     "output_type": "execute_result"
    }
   ],
   "source": [
    "eta = 0.01\n",
    "u, v = 0, 0\n",
    "for i in np.arange(5):\n",
    "    updata_u, updata_v = gradient(u, v, eta)\n",
    "    u = u - updata_u\n",
    "    v = v - updata_v\n",
    "e = np.exp(u) + np.exp(2*v) + np.exp(u*v) + u**2 - 2*u*v + 2*v**2 - 3*u - 2*v\n",
    "e"
   ]
  },
  {
   "cell_type": "code",
   "execution_count": 4,
   "metadata": {},
   "outputs": [],
   "source": [
    "H11 = np.exp(u) + v**2*np.exp(u*v) + 2\n",
    "H22 = 4*np.exp(2*v) + u**2*np.exp(u*v) + 4\n",
    "H12 = np.exp(u*v) + u*v*np.exp(u*v) - 2\n",
    "H21 = H12"
   ]
  },
  {
   "cell_type": "code",
   "execution_count": 5,
   "metadata": {},
   "outputs": [
    {
     "data": {
      "text/plain": [
       "(-0.9996631038349073, 8.02320234808238)"
      ]
     },
     "execution_count": 5,
     "metadata": {},
     "output_type": "execute_result"
    }
   ],
   "source": [
    "(H12, H22)"
   ]
  },
  {
   "cell_type": "code",
   "execution_count": 6,
   "metadata": {},
   "outputs": [],
   "source": [
    "def inverse_hessian_matrix(u, v):\n",
    "    H11 = np.exp(u) + v**2*np.exp(u*v) + 2\n",
    "    H22 = 4*np.exp(2*v) + u**2*np.exp(u*v) + 4\n",
    "    H12 = np.exp(u*v) + u*v*np.exp(u*v) - 2\n",
    "    return inv(np.mat(((H11, H21),(H12, H22))))"
   ]
  },
  {
   "cell_type": "code",
   "execution_count": 7,
   "metadata": {},
   "outputs": [],
   "source": [
    "def gradient(u, v):\n",
    "    updata_u = (np.exp(u) + v * np.exp(v*u) + 2*u - 2*v - 3)\n",
    "    updata_v = (2 * np.exp(2*v) + u*np.exp(u*v) - 2*u + 4*v - 2)\n",
    "    return  np.array((updata_u, updata_v))"
   ]
  },
  {
   "cell_type": "code",
   "execution_count": 8,
   "metadata": {},
   "outputs": [],
   "source": [
    "array = np.array(inverse_hessian_matrix(0, 0).dot(gradient(0, 0)))"
   ]
  },
  {
   "cell_type": "code",
   "execution_count": 9,
   "metadata": {},
   "outputs": [
    {
     "data": {
      "text/plain": [
       "array([-2.,  0.])"
      ]
     },
     "execution_count": 9,
     "metadata": {},
     "output_type": "execute_result"
    }
   ],
   "source": [
    "gradient(0, 0)"
   ]
  },
  {
   "cell_type": "code",
   "execution_count": 10,
   "metadata": {},
   "outputs": [
    {
     "data": {
      "text/plain": [
       "2.360823345643137"
      ]
     },
     "execution_count": 10,
     "metadata": {},
     "output_type": "execute_result"
    }
   ],
   "source": [
    "u, v = 0, 0\n",
    "for i in np.arange(5):\n",
    "    updata_u, updata_v = gradient(u, v)\n",
    "    inverse_hessian = inverse_hessian_matrix(u, v)\n",
    "    iter_result = np.array(inverse_hessian.dot(np.array((updata_u, updata_v))))\n",
    "    \n",
    "    u = u - iter_result[0][0]\n",
    "    v = v - iter_result[0][1]\n",
    "e = np.exp(u) + np.exp(2*v) + np.exp(u*v) + u**2 - 2*u*v + 2*v**2 - 3*u - 2*v\n",
    "e"
   ]
  },
  {
   "cell_type": "code",
   "execution_count": 11,
   "metadata": {},
   "outputs": [],
   "source": [
    "size=1000\n",
    "def sign(x):\n",
    "    return np.where(x>0, 1, -1)"
   ]
  },
  {
   "cell_type": "code",
   "execution_count": 12,
   "metadata": {},
   "outputs": [],
   "source": [
    "def f1(size):\n",
    "    x1 = np.random.uniform(low=-1, high=1, size=size)\n",
    "    x2 = np.random.uniform(low=-1, high=1, size=size)\n",
    "    flip = np.where(np.random.uniform(low=0, high=1, size=size) <= 0.1, -1, 1)\n",
    "    y = sign(x1 ** 2 + x2 ** 2 - 0.6) * flip\n",
    "    X = np.mat(np.concatenate((np.ones((len(x1), 1)), x1.reshape(len(x1), 1), x2.reshape(len(x1), 1)), axis=1))\n",
    "    h = regression(X, y)\n",
    "    yhat = sign(np.array((X * h))).reshape(1000,)\n",
    "    return ((yhat != y).sum()) / len(yhat)"
   ]
  },
  {
   "cell_type": "code",
   "execution_count": 22,
   "metadata": {},
   "outputs": [],
   "source": [
    "def reshape(x):\n",
    "    return x.reshape(len(x), 1)"
   ]
  },
  {
   "cell_type": "code",
   "execution_count": 94,
   "metadata": {},
   "outputs": [],
   "source": [
    "def f2(size):\n",
    "    x1 = np.random.uniform(low=-1, high=1, size=size)\n",
    "    x2 = np.random.uniform(low=-1, high=1, size=size)\n",
    "    flip = np.where(np.random.uniform(low=0, high=1, size=size) <= 0.1, -1, 1)\n",
    "    y = sign(x1 ** 2 + x2 ** 2 - 0.6) * flip\n",
    "    X = np.concatenate((np.ones((len(x1), 1)), reshape(x1), reshape(x2), reshape(x1 * x2), reshape(x1 ** 2), reshape(x2 ** 2)),axis=1)\n",
    "    return regression(X, y)"
   ]
  },
  {
   "cell_type": "code",
   "execution_count": 36,
   "metadata": {
    "code_folding": []
   },
   "outputs": [],
   "source": [
    "def regression(X, y):\n",
    "    w_lin = np.linalg.pinv(X)\n",
    "    return np.array(w_lin.dot(y.reshape(len(y), 1)))"
   ]
  },
  {
   "cell_type": "code",
   "execution_count": 198,
   "metadata": {},
   "outputs": [],
   "source": [
    "def test():\n",
    "    x1 = np.random.uniform(low=-1, high=1, size=size)\n",
    "    x2 = np.random.uniform(low=-1, high=1, size=size)\n",
    "    flip = np.where(np.random.uniform(low=0, high=1, size=size) <= 0.1, -1, 1)\n",
    "    y = sign(x1 ** 2 + x2 ** 2 - 0.6) * flip\n",
    "    w = f2(1000)\n",
    "    X = np.concatenate((np.ones((len(x1), 1)), reshape(x1), reshape(x2), reshape(x1 * x2), reshape(x1 ** 2), reshape(x2 ** 2)), axis=1)\n",
    "    yhat = sign(X.dot(w)).reshape(1000,)\n",
    "    eout = (y != yhat).sum() / len(y)\n",
    "    return eout"
   ]
  },
  {
   "cell_type": "code",
   "execution_count": 203,
   "metadata": {},
   "outputs": [
    {
     "data": {
      "text/plain": [
       "0.5040919999999999"
      ]
     },
     "execution_count": 203,
     "metadata": {},
     "output_type": "execute_result"
    }
   ],
   "source": [
    "total = 0\n",
    "for i in np.arange(1000):\n",
    "    total += f(1000)\n",
    "total / 1000"
   ]
  },
  {
   "cell_type": "code",
   "execution_count": 204,
   "metadata": {},
   "outputs": [
    {
     "data": {
      "text/plain": [
       "0.12616700000000006"
      ]
     },
     "execution_count": 204,
     "metadata": {},
     "output_type": "execute_result"
    }
   ],
   "source": [
    "total = 0\n",
    "for i in np.arange(1000):\n",
    "    total += test()\n",
    "total / 1000"
   ]
  },
  {
   "cell_type": "code",
   "execution_count": 199,
   "metadata": {},
   "outputs": [
    {
     "data": {
      "text/plain": [
       "array([[-9.92902757e-01],\n",
       "       [ 2.99701869e-03],\n",
       "       [-9.97892122e-04],\n",
       "       [ 5.55249121e-04],\n",
       "       [ 1.55782769e+00],\n",
       "       [ 1.55904863e+00]])"
      ]
     },
     "execution_count": 199,
     "metadata": {},
     "output_type": "execute_result"
    }
   ],
   "source": [
    "total = np.zeros(f2(1000).shape)\n",
    "for i in np.arange(1000):\n",
    "    total += f2(1000)\n",
    "total / 1000"
   ]
  }
 ],
 "metadata": {
  "kernelspec": {
   "display_name": "Python 3",
   "language": "python",
   "name": "python3"
  },
  "language_info": {
   "codemirror_mode": {
    "name": "ipython",
    "version": 3
   },
   "file_extension": ".py",
   "mimetype": "text/x-python",
   "name": "python",
   "nbconvert_exporter": "python",
   "pygments_lexer": "ipython3",
   "version": "3.6.5"
  }
 },
 "nbformat": 4,
 "nbformat_minor": 2
}
