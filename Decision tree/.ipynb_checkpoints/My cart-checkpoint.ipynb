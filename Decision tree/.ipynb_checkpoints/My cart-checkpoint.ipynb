{
 "cells": [
  {
   "cell_type": "code",
   "execution_count": 1,
   "metadata": {},
   "outputs": [],
   "source": [
    "import pandas as pd\n",
    "import numpy as np"
   ]
  },
  {
   "cell_type": "code",
   "execution_count": 2,
   "metadata": {},
   "outputs": [],
   "source": [
    "def loadData(filename):\n",
    "    data = pd.read_csv(filename, sep='\\s',header=None, engine='python')\n",
    "    X = np.array(data.iloc[:, [0, 1]])\n",
    "    Y = np.array(data.iloc[:, [2]])\n",
    "    Y = Y.reshape((len(Y), ))\n",
    "    return X, Y"
   ]
  },
  {
   "cell_type": "code",
   "execution_count": 3,
   "metadata": {},
   "outputs": [],
   "source": [
    "X_train, Y_train = loadData('hw3_train.dat')\n",
    "X_test, Y_test = loadData('hw3_test.dat')"
   ]
  },
  {
   "cell_type": "code",
   "execution_count": 4,
   "metadata": {},
   "outputs": [],
   "source": [
    "class CART:\n",
    "    def __init__(self, theta, dim, value = None):\n",
    "        self.theta = theta\n",
    "        self.dim = dim\n",
    "        self.value = value\n",
    "        self.left = None\n",
    "        self.right = None"
   ]
  },
  {
   "cell_type": "code",
   "execution_count": 5,
   "metadata": {},
   "outputs": [],
   "source": [
    "def gini(Y):\n",
    "    l = Y.shape[0]\n",
    "    if l == 0:\n",
    "        return 1\n",
    "    return 1-(np.sum(Y==1)/l)**2-(np.sum(Y==-1)/l)**2"
   ]
  },
  {
   "cell_type": "code",
   "execution_count": 6,
   "metadata": {},
   "outputs": [],
   "source": [
    "def decision_stump(x, sep, s, dim):\n",
    "    return s * np.where(x[:, dim] >= sep, 1, -1)"
   ]
  },
  {
   "cell_type": "code",
   "execution_count": 7,
   "metadata": {},
   "outputs": [],
   "source": [
    "def create_sep(X, dim):\n",
    "    sort_X = np.sort(X[:, dim])\n",
    "    after_sort = [(sort_X[i] + sort_X[i+1])/2 for i in np.arange(len(sort_X)-1)]\n",
    "    after_sort.append(sort_X[-1]+1e-10)\n",
    "    return after_sort"
   ]
  },
  {
   "cell_type": "code",
   "execution_count": 8,
   "metadata": {},
   "outputs": [],
   "source": [
    "def find_best_branch_in_dimension(X, Y, dim):\n",
    "    sort_X = create_sep(X, dim)\n",
    "    gini_min = np.inf\n",
    "    for s in {1, -1}:\n",
    "        for i in sort_X:\n",
    "            yhat = decision_stump(X, i, s, dim)\n",
    "            y_positive = Y[yhat == 1]\n",
    "            #print(len(y_positive))\n",
    "            y_negative = Y[yhat == -1]\n",
    "            gini_coef = len(y_positive) * gini(y_positive) + len(y_negative) * gini(y_negative)\n",
    "            if gini_coef < gini_min:\n",
    "                gini_min = gini_coef\n",
    "                s_final = s\n",
    "                sep = i\n",
    "    return gini_min, s_final, sep"
   ]
  },
  {
   "cell_type": "code",
   "execution_count": 9,
   "metadata": {},
   "outputs": [],
   "source": [
    "def find_best_branch(X, Y):\n",
    "    gini0, s0, sep0 = find_best_branch_in_dimension(X, Y, 0)\n",
    "    gini1, s1, sep1 = find_best_branch_in_dimension(X, Y, 1)\n",
    "    if gini0 <= gini1:\n",
    "        return gini0, s0, sep0, 0\n",
    "    return gini1, s1, sep1, 1"
   ]
  },
  {
   "cell_type": "code",
   "execution_count": 10,
   "metadata": {},
   "outputs": [],
   "source": [
    "def stop_cond(X, Y):\n",
    "    if np.sum(Y!=Y[0])==0 or X.shape[0]==1 or np.sum(X!=X[0, :])==0:\n",
    "        return True\n",
    "    return False"
   ]
  },
  {
   "cell_type": "code",
   "execution_count": 11,
   "metadata": {},
   "outputs": [],
   "source": [
    "def build_cart(X, Y):\n",
    "    if stop_cond(X, Y):\n",
    "        return CART(None, None, Y[0])\n",
    "    gini, s, sep, dim = find_best_branch(X, Y)\n",
    "    cart = CART(sep, dim)\n",
    "    stump = decision_stump(X, sep, s, dim)\n",
    "    if s == 1:\n",
    "        left_X = X[stump == -1].copy()\n",
    "        left_Y = Y[stump == -1].copy()\n",
    "        right_X = X[stump == 1].copy()\n",
    "        right_Y = Y[stump == 1].copy()\n",
    "    else:\n",
    "        left_X = X[stump == 1].copy()\n",
    "        left_Y = Y[stump == 1].copy()\n",
    "        right_X = X[stump == -1].copy()\n",
    "        right_Y = Y[stump == -1].copy()\n",
    "    cart.left = build_cart(left_X, left_Y)\n",
    "    cart.right = build_cart(right_X, right_Y)\n",
    "    return cart"
   ]
  },
  {
   "cell_type": "code",
   "execution_count": 28,
   "metadata": {},
   "outputs": [],
   "source": [
    "cart = build_cart(X_train,Y_train)"
   ]
  },
  {
   "cell_type": "code",
   "execution_count": 29,
   "metadata": {},
   "outputs": [],
   "source": [
    "def internal_node(node):\n",
    "    if node.value != None:\n",
    "        #print(node.value)\n",
    "        return 0\n",
    "    l = 0\n",
    "    r = 0\n",
    "    if node.left != None:\n",
    "        l = internal_node(node.left)\n",
    "    if node.right != None:\n",
    "        r = internal_node(node.right)\n",
    "    return 1 + l + r"
   ]
  },
  {
   "cell_type": "code",
   "execution_count": 30,
   "metadata": {},
   "outputs": [
    {
     "data": {
      "text/plain": [
       "10"
      ]
     },
     "execution_count": 30,
     "metadata": {},
     "output_type": "execute_result"
    }
   ],
   "source": [
    "internal_node(cart)"
   ]
  },
  {
   "cell_type": "code",
   "execution_count": 31,
   "metadata": {},
   "outputs": [],
   "source": [
    "def predict(x, cart):\n",
    "    dim = cart.dim\n",
    "    if cart.value != None:\n",
    "        return cart.value\n",
    "    if x[dim] >= cart.theta:\n",
    "        return predict(x, cart.right)\n",
    "    else:\n",
    "        return predict(x, cart.left)"
   ]
  },
  {
   "cell_type": "code",
   "execution_count": 75,
   "metadata": {},
   "outputs": [],
   "source": [
    "def test_error(X, Y, cart):\n",
    "    yhat = predict_vector(X, cart)\n",
    "    error = (yhat != Y).sum() / len(Y)\n",
    "    return error"
   ]
  },
  {
   "cell_type": "code",
   "execution_count": 76,
   "metadata": {},
   "outputs": [],
   "source": [
    "def predict_vector(X, cart):\n",
    "    m, n = X.shape\n",
    "    yhat = np.zeros((m,))\n",
    "    for i in np.arange(m):\n",
    "        yhat[i] = predict(X[i], cart)\n",
    "    return yhat"
   ]
  },
  {
   "cell_type": "code",
   "execution_count": 77,
   "metadata": {},
   "outputs": [
    {
     "data": {
      "text/plain": [
       "0.0"
      ]
     },
     "execution_count": 77,
     "metadata": {},
     "output_type": "execute_result"
    }
   ],
   "source": [
    "test_error(X_train, Y_train,cart)"
   ]
  },
  {
   "cell_type": "code",
   "execution_count": 78,
   "metadata": {},
   "outputs": [
    {
     "data": {
      "text/plain": [
       "0.126"
      ]
     },
     "execution_count": 78,
     "metadata": {},
     "output_type": "execute_result"
    }
   ],
   "source": [
    "test_error(X_test, Y_test,cart)"
   ]
  },
  {
   "cell_type": "code",
   "execution_count": 70,
   "metadata": {},
   "outputs": [],
   "source": [
    "X = X_train\n",
    "Y = Y_train"
   ]
  },
  {
   "cell_type": "code",
   "execution_count": 61,
   "metadata": {},
   "outputs": [],
   "source": [
    "def bagging(X, Y):\n",
    "    row, col = X.shape\n",
    "    pos = np.random.randint(0, row, (row,))\n",
    "    return X[pos, :], Y[pos]"
   ]
  },
  {
   "cell_type": "code",
   "execution_count": 145,
   "metadata": {},
   "outputs": [],
   "source": [
    "def random_forest(X, Y, T):\n",
    "    carts = []\n",
    "    for i in range(T):\n",
    "        Xtemp, Ytemp = bagging(X, Y)\n",
    "        cart = build_cart(Xtemp, Ytemp)\n",
    "        carts.append(cart)\n",
    "    return carts"
   ]
  },
  {
   "cell_type": "code",
   "execution_count": 146,
   "metadata": {
    "code_folding": []
   },
   "outputs": [],
   "source": [
    "def err_fun(X, Y, cart):\n",
    "    row, col = X.shape\n",
    "    Yhat = np.zeros(Y.shape)\n",
    "    for i in range(row):\n",
    "        Yhat[i] = predict(cart, X[i, :])\n",
    "    return Yhat, np.sum(Yhat!=Y)/row"
   ]
  },
  {
   "cell_type": "code",
   "execution_count": 169,
   "metadata": {},
   "outputs": [],
   "source": [
    "def question():\n",
    "    ein = 0\n",
    "    eout = 0\n",
    "    error_in = 0\n",
    "    error_out = 0\n",
    "    out_iters = 5\n",
    "    inner_iters = 50\n",
    "    m, n = X.shape\n",
    "\n",
    "    for p in np.arange(out_iters):\n",
    "        carts = random_forest(X, Y, inner_iters)\n",
    "        l = len(carts)\n",
    "        yhat1 = np.zeros((m, l))\n",
    "        yhat2 = np.zeros((len(X_test), l))\n",
    "        for i in np.arange(l):\n",
    "            yhat1[:, i] = predict_vector(X, carts[i])\n",
    "            yhat2[:, i] = predict_vector(X_test, carts[i])\n",
    "        ein += (yhat1 != Y.reshape((len(Y), 1))).sum() / l / len(Y)\n",
    "        yhat1_sum = np.where(yhat1.sum(axis=1) >= 0, 1, -1) \n",
    "        yhat2_sum = np.where(yhat2.sum(axis=1) >= 0, 1, -1)\n",
    "        error_in += (yhat1_sum != Y).sum() / len(Y)\n",
    "        error_out += (yhat2_sum != Y_test).sum() / len(yhat2)\n",
    "    print(error_in / out_iters)\n",
    "    print(error_out / out_iters)\n",
    "    print(ein / out_iters )"
   ]
  },
  {
   "cell_type": "code",
   "execution_count": 170,
   "metadata": {},
   "outputs": [
    {
     "name": "stdout",
     "output_type": "stream",
     "text": [
      "0.0\n",
      "0.0792\n",
      "0.0526\n"
     ]
    }
   ],
   "source": [
    "question()"
   ]
  }
 ],
 "metadata": {
  "kernelspec": {
   "display_name": "Python 3",
   "language": "python",
   "name": "python3"
  },
  "language_info": {
   "codemirror_mode": {
    "name": "ipython",
    "version": 3
   },
   "file_extension": ".py",
   "mimetype": "text/x-python",
   "name": "python",
   "nbconvert_exporter": "python",
   "pygments_lexer": "ipython3",
   "version": "3.6.5"
  }
 },
 "nbformat": 4,
 "nbformat_minor": 2
}
